{
 "cells": [
  {
   "cell_type": "markdown",
   "id": "8addb8e0",
   "metadata": {},
   "source": [
    "## Topic Modelling\n",
    "\n",
    "Topic Modelling is a technique to extract the hidden topics from large documents\n",
    "\n",
    "We will use LDA(Latent Dirichlet Allocation) algorithm to extract the meaningful topics. "
   ]
  },
  {
   "cell_type": "markdown",
   "id": "018d885f",
   "metadata": {},
   "source": [
    "Downloading spacy model and nltk stopwords"
   ]
  },
  {
   "cell_type": "code",
   "execution_count": 1,
   "id": "362fe735",
   "metadata": {},
   "outputs": [
    {
     "name": "stderr",
     "output_type": "stream",
     "text": [
      "[nltk_data] Downloading package stopwords to C:\\Users\\Rishabh\n",
      "[nltk_data]     Nagar\\AppData\\Roaming\\nltk_data...\n",
      "[nltk_data]   Package stopwords is already up-to-date!\n",
      "Python was not found; run without arguments to install from the Microsoft Store, or disable this shortcut from Settings > Manage App Execution Aliases.\n"
     ]
    }
   ],
   "source": [
    "# Run in python console\n",
    "import nltk; nltk.download('stopwords')\n",
    "\n",
    "#we will be using the spacy model for lemmatization.\n",
    "!python3 -m spacy download en"
   ]
  },
  {
   "cell_type": "code",
   "execution_count": 23,
   "id": "085d59c2",
   "metadata": {
    "scrolled": true
   },
   "outputs": [
    {
     "name": "stdout",
     "output_type": "stream",
     "text": [
      "Collecting en-core-web-sm==3.3.0\n",
      "  Using cached https://github.com/explosion/spacy-models/releases/download/en_core_web_sm-3.3.0/en_core_web_sm-3.3.0-py3-none-any.whl (12.8 MB)\n",
      "Requirement already satisfied: spacy<3.4.0,>=3.3.0.dev0 in r:\\nlp_projects\\nlpenv\\lib\\site-packages (from en-core-web-sm==3.3.0) (3.3.0)\n",
      "Requirement already satisfied: thinc<8.1.0,>=8.0.14 in r:\\nlp_projects\\nlpenv\\lib\\site-packages (from spacy<3.4.0,>=3.3.0.dev0->en-core-web-sm==3.3.0) (8.0.16)\n",
      "Requirement already satisfied: numpy>=1.15.0 in r:\\nlp_projects\\nlpenv\\lib\\site-packages (from spacy<3.4.0,>=3.3.0.dev0->en-core-web-sm==3.3.0) (1.22.4)\n",
      "Requirement already satisfied: langcodes<4.0.0,>=3.2.0 in r:\\nlp_projects\\nlpenv\\lib\\site-packages (from spacy<3.4.0,>=3.3.0.dev0->en-core-web-sm==3.3.0) (3.3.0)\n",
      "Requirement already satisfied: wasabi<1.1.0,>=0.9.1 in r:\\nlp_projects\\nlpenv\\lib\\site-packages (from spacy<3.4.0,>=3.3.0.dev0->en-core-web-sm==3.3.0) (0.9.1)\n",
      "Requirement already satisfied: blis<0.8.0,>=0.4.0 in r:\\nlp_projects\\nlpenv\\lib\\site-packages (from spacy<3.4.0,>=3.3.0.dev0->en-core-web-sm==3.3.0) (0.7.7)\n",
      "Requirement already satisfied: murmurhash<1.1.0,>=0.28.0 in r:\\nlp_projects\\nlpenv\\lib\\site-packages (from spacy<3.4.0,>=3.3.0.dev0->en-core-web-sm==3.3.0) (1.0.7)\n",
      "Requirement already satisfied: preshed<3.1.0,>=3.0.2 in r:\\nlp_projects\\nlpenv\\lib\\site-packages (from spacy<3.4.0,>=3.3.0.dev0->en-core-web-sm==3.3.0) (3.0.6)\n",
      "Requirement already satisfied: jinja2 in r:\\nlp_projects\\nlpenv\\lib\\site-packages (from spacy<3.4.0,>=3.3.0.dev0->en-core-web-sm==3.3.0) (3.1.2)\n",
      "Requirement already satisfied: packaging>=20.0 in r:\\nlp_projects\\nlpenv\\lib\\site-packages (from spacy<3.4.0,>=3.3.0.dev0->en-core-web-sm==3.3.0) (21.3)\n",
      "Requirement already satisfied: cymem<2.1.0,>=2.0.2 in r:\\nlp_projects\\nlpenv\\lib\\site-packages (from spacy<3.4.0,>=3.3.0.dev0->en-core-web-sm==3.3.0) (2.0.6)\n",
      "Requirement already satisfied: typer<0.5.0,>=0.3.0 in r:\\nlp_projects\\nlpenv\\lib\\site-packages (from spacy<3.4.0,>=3.3.0.dev0->en-core-web-sm==3.3.0) (0.4.1)\n",
      "Requirement already satisfied: pydantic!=1.8,!=1.8.1,<1.9.0,>=1.7.4 in r:\\nlp_projects\\nlpenv\\lib\\site-packages (from spacy<3.4.0,>=3.3.0.dev0->en-core-web-sm==3.3.0) (1.8.2)\n",
      "Requirement already satisfied: tqdm<5.0.0,>=4.38.0 in r:\\nlp_projects\\nlpenv\\lib\\site-packages (from spacy<3.4.0,>=3.3.0.dev0->en-core-web-sm==3.3.0) (4.64.0)\n",
      "Requirement already satisfied: setuptools in r:\\nlp_projects\\nlpenv\\lib\\site-packages (from spacy<3.4.0,>=3.3.0.dev0->en-core-web-sm==3.3.0) (62.1.0)\n",
      "Requirement already satisfied: spacy-loggers<2.0.0,>=1.0.0 in r:\\nlp_projects\\nlpenv\\lib\\site-packages (from spacy<3.4.0,>=3.3.0.dev0->en-core-web-sm==3.3.0) (1.0.2)\n",
      "Requirement already satisfied: pathy>=0.3.5 in r:\\nlp_projects\\nlpenv\\lib\\site-packages (from spacy<3.4.0,>=3.3.0.dev0->en-core-web-sm==3.3.0) (0.6.1)\n",
      "Requirement already satisfied: spacy-legacy<3.1.0,>=3.0.9 in r:\\nlp_projects\\nlpenv\\lib\\site-packages (from spacy<3.4.0,>=3.3.0.dev0->en-core-web-sm==3.3.0) (3.0.9)\n",
      "Requirement already satisfied: requests<3.0.0,>=2.13.0 in r:\\nlp_projects\\nlpenv\\lib\\site-packages (from spacy<3.4.0,>=3.3.0.dev0->en-core-web-sm==3.3.0) (2.27.1)\n",
      "Requirement already satisfied: srsly<3.0.0,>=2.4.3 in r:\\nlp_projects\\nlpenv\\lib\\site-packages (from spacy<3.4.0,>=3.3.0.dev0->en-core-web-sm==3.3.0) (2.4.3)\n",
      "Requirement already satisfied: catalogue<2.1.0,>=2.0.6 in r:\\nlp_projects\\nlpenv\\lib\\site-packages (from spacy<3.4.0,>=3.3.0.dev0->en-core-web-sm==3.3.0) (2.0.7)\n",
      "Requirement already satisfied: pyparsing!=3.0.5,>=2.0.2 in r:\\nlp_projects\\nlpenv\\lib\\site-packages (from packaging>=20.0->spacy<3.4.0,>=3.3.0.dev0->en-core-web-sm==3.3.0) (3.0.9)\n",
      "Requirement already satisfied: smart-open<6.0.0,>=5.0.0 in r:\\nlp_projects\\nlpenv\\lib\\site-packages (from pathy>=0.3.5->spacy<3.4.0,>=3.3.0.dev0->en-core-web-sm==3.3.0) (5.2.1)\n",
      "Requirement already satisfied: typing-extensions>=3.7.4.3 in r:\\nlp_projects\\nlpenv\\lib\\site-packages (from pydantic!=1.8,!=1.8.1,<1.9.0,>=1.7.4->spacy<3.4.0,>=3.3.0.dev0->en-core-web-sm==3.3.0) (4.2.0)\n",
      "Requirement already satisfied: certifi>=2017.4.17 in r:\\nlp_projects\\nlpenv\\lib\\site-packages (from requests<3.0.0,>=2.13.0->spacy<3.4.0,>=3.3.0.dev0->en-core-web-sm==3.3.0) (2022.5.18.1)\n",
      "Requirement already satisfied: idna<4,>=2.5 in r:\\nlp_projects\\nlpenv\\lib\\site-packages (from requests<3.0.0,>=2.13.0->spacy<3.4.0,>=3.3.0.dev0->en-core-web-sm==3.3.0) (3.3)\n",
      "Requirement already satisfied: charset-normalizer~=2.0.0 in r:\\nlp_projects\\nlpenv\\lib\\site-packages (from requests<3.0.0,>=2.13.0->spacy<3.4.0,>=3.3.0.dev0->en-core-web-sm==3.3.0) (2.0.12)\n",
      "Requirement already satisfied: urllib3<1.27,>=1.21.1 in r:\\nlp_projects\\nlpenv\\lib\\site-packages (from requests<3.0.0,>=2.13.0->spacy<3.4.0,>=3.3.0.dev0->en-core-web-sm==3.3.0) (1.26.9)\n",
      "Requirement already satisfied: colorama in r:\\nlp_projects\\nlpenv\\lib\\site-packages (from tqdm<5.0.0,>=4.38.0->spacy<3.4.0,>=3.3.0.dev0->en-core-web-sm==3.3.0) (0.4.4)\n",
      "Requirement already satisfied: click<9.0.0,>=7.1.1 in r:\\nlp_projects\\nlpenv\\lib\\site-packages (from typer<0.5.0,>=0.3.0->spacy<3.4.0,>=3.3.0.dev0->en-core-web-sm==3.3.0) (8.1.3)\n",
      "Requirement already satisfied: MarkupSafe>=2.0 in r:\\nlp_projects\\nlpenv\\lib\\site-packages (from jinja2->spacy<3.4.0,>=3.3.0.dev0->en-core-web-sm==3.3.0) (2.1.1)\n",
      "[+] Download and installation successful\n",
      "You can now load the package via spacy.load('en_core_web_sm')\n"
     ]
    },
    {
     "name": "stderr",
     "output_type": "stream",
     "text": [
      "2022-05-26 11:03:21.404019: W tensorflow/stream_executor/platform/default/dso_loader.cc:64] Could not load dynamic library 'cudart64_110.dll'; dlerror: cudart64_110.dll not found\n",
      "2022-05-26 11:03:21.404089: I tensorflow/stream_executor/cuda/cudart_stub.cc:29] Ignore above cudart dlerror if you do not have a GPU set up on your machine.\n",
      "WARNING: You are using pip version 22.0.4; however, version 22.1.1 is available.\n",
      "You should consider upgrading via the 'R:\\NLP_projects\\nlpenv\\Scripts\\python.exe -m pip install --upgrade pip' command.\n"
     ]
    }
   ],
   "source": [
    "!python -m spacy download en_core_web_sm"
   ]
  },
  {
   "cell_type": "markdown",
   "id": "92b830f8",
   "metadata": {},
   "source": [
    "## Importing the Libraries"
   ]
  },
  {
   "cell_type": "code",
   "execution_count": 2,
   "id": "9d838388",
   "metadata": {},
   "outputs": [],
   "source": [
    "import re\n",
    "import numpy as np\n",
    "import pandas as pd\n",
    "from pprint import pprint\n",
    "\n",
    "# Gensim\n",
    "import gensim\n",
    "import gensim.corpora as corpora\n",
    "from gensim.utils import simple_preprocess\n",
    "from gensim.models import CoherenceModel\n",
    "\n",
    "# spacy for lemmatization\n",
    "import spacy\n",
    "\n",
    "# Plotting tools\n",
    "import pyLDAvis\n",
    "import pyLDAvis.gensim_models  # don't skip this\n",
    "import matplotlib.pyplot as plt\n",
    "%matplotlib inline\n",
    "\n",
    "# Enable logging for gensim - optional\n",
    "import logging\n",
    "logging.basicConfig(format='%(asctime)s : %(levelname)s : %(message)s', level=logging.ERROR)\n",
    "\n",
    "import warnings\n",
    "warnings.filterwarnings(\"ignore\",category=DeprecationWarning)"
   ]
  },
  {
   "cell_type": "markdown",
   "id": "569d079d",
   "metadata": {},
   "source": [
    "## Stopwords"
   ]
  },
  {
   "cell_type": "code",
   "execution_count": 3,
   "id": "cd96a8a6",
   "metadata": {},
   "outputs": [],
   "source": [
    "# NLTK Stop words\n",
    "from nltk.corpus import stopwords\n",
    "stop_words = stopwords.words('english')\n",
    "stop_words.extend(['from', 'subject', 're', 'edu', 'use'])"
   ]
  },
  {
   "cell_type": "markdown",
   "id": "5acd6f85",
   "metadata": {},
   "source": [
    "## Importing the Dataset"
   ]
  },
  {
   "cell_type": "code",
   "execution_count": 4,
   "id": "33405a62",
   "metadata": {},
   "outputs": [
    {
     "name": "stdout",
     "output_type": "stream",
     "text": [
      "['rec.autos' 'comp.sys.mac.hardware' 'comp.graphics' 'sci.space'\n",
      " 'talk.politics.guns' 'sci.med' 'comp.sys.ibm.pc.hardware'\n",
      " 'comp.os.ms-windows.misc' 'rec.motorcycles' 'talk.religion.misc'\n",
      " 'misc.forsale' 'alt.atheism' 'sci.electronics' 'comp.windows.x'\n",
      " 'rec.sport.hockey' 'rec.sport.baseball' 'soc.religion.christian'\n",
      " 'talk.politics.mideast' 'talk.politics.misc' 'sci.crypt']\n"
     ]
    },
    {
     "data": {
      "text/html": [
       "<div>\n",
       "<style scoped>\n",
       "    .dataframe tbody tr th:only-of-type {\n",
       "        vertical-align: middle;\n",
       "    }\n",
       "\n",
       "    .dataframe tbody tr th {\n",
       "        vertical-align: top;\n",
       "    }\n",
       "\n",
       "    .dataframe thead th {\n",
       "        text-align: right;\n",
       "    }\n",
       "</style>\n",
       "<table border=\"1\" class=\"dataframe\">\n",
       "  <thead>\n",
       "    <tr style=\"text-align: right;\">\n",
       "      <th></th>\n",
       "      <th>content</th>\n",
       "      <th>target</th>\n",
       "      <th>target_names</th>\n",
       "    </tr>\n",
       "  </thead>\n",
       "  <tbody>\n",
       "    <tr>\n",
       "      <th>0</th>\n",
       "      <td>From: lerxst@wam.umd.edu (where's my thing)\\nS...</td>\n",
       "      <td>7</td>\n",
       "      <td>rec.autos</td>\n",
       "    </tr>\n",
       "    <tr>\n",
       "      <th>1</th>\n",
       "      <td>From: guykuo@carson.u.washington.edu (Guy Kuo)...</td>\n",
       "      <td>4</td>\n",
       "      <td>comp.sys.mac.hardware</td>\n",
       "    </tr>\n",
       "    <tr>\n",
       "      <th>2</th>\n",
       "      <td>From: twillis@ec.ecn.purdue.edu (Thomas E Will...</td>\n",
       "      <td>4</td>\n",
       "      <td>comp.sys.mac.hardware</td>\n",
       "    </tr>\n",
       "    <tr>\n",
       "      <th>3</th>\n",
       "      <td>From: jgreen@amber (Joe Green)\\nSubject: Re: W...</td>\n",
       "      <td>1</td>\n",
       "      <td>comp.graphics</td>\n",
       "    </tr>\n",
       "    <tr>\n",
       "      <th>4</th>\n",
       "      <td>From: jcm@head-cfa.harvard.edu (Jonathan McDow...</td>\n",
       "      <td>14</td>\n",
       "      <td>sci.space</td>\n",
       "    </tr>\n",
       "  </tbody>\n",
       "</table>\n",
       "</div>"
      ],
      "text/plain": [
       "                                             content  target  \\\n",
       "0  From: lerxst@wam.umd.edu (where's my thing)\\nS...       7   \n",
       "1  From: guykuo@carson.u.washington.edu (Guy Kuo)...       4   \n",
       "2  From: twillis@ec.ecn.purdue.edu (Thomas E Will...       4   \n",
       "3  From: jgreen@amber (Joe Green)\\nSubject: Re: W...       1   \n",
       "4  From: jcm@head-cfa.harvard.edu (Jonathan McDow...      14   \n",
       "\n",
       "            target_names  \n",
       "0              rec.autos  \n",
       "1  comp.sys.mac.hardware  \n",
       "2  comp.sys.mac.hardware  \n",
       "3          comp.graphics  \n",
       "4              sci.space  "
      ]
     },
     "execution_count": 4,
     "metadata": {},
     "output_type": "execute_result"
    }
   ],
   "source": [
    "# Import Dataset\n",
    "df = pd.read_json('https://raw.githubusercontent.com/selva86/datasets/master/newsgroups.json')\n",
    "print(df.target_names.unique())\n",
    "df.head()"
   ]
  },
  {
   "cell_type": "markdown",
   "id": "93eb77aa",
   "metadata": {},
   "source": [
    "### Removing all the new line character (\\n) and email addresses (eg: \"guykuo@carson.u.washington.edu\")"
   ]
  },
  {
   "cell_type": "code",
   "execution_count": 5,
   "id": "4f77a560",
   "metadata": {},
   "outputs": [
    {
     "name": "stdout",
     "output_type": "stream",
     "text": [
      "['From: (wheres my thing) Subject: WHAT car is this!? Nntp-Posting-Host: '\n",
      " 'rac3.wam.umd.edu Organization: University of Maryland, College Park Lines: '\n",
      " '15 I was wondering if anyone out there could enlighten me on this car I saw '\n",
      " 'the other day. It was a 2-door sports car, looked to be from the late 60s/ '\n",
      " 'early 70s. It was called a Bricklin. The doors were really small. In '\n",
      " 'addition, the front bumper was separate from the rest of the body. This is '\n",
      " 'all I know. If anyone can tellme a model name, engine specs, years of '\n",
      " 'production, where this car is made, history, or whatever info you have on '\n",
      " 'this funky looking car, please e-mail. Thanks, - IL ---- brought to you by '\n",
      " 'your neighborhood Lerxst ---- ']\n"
     ]
    }
   ],
   "source": [
    "# Convert to list\n",
    "data = df.content.values.tolist()\n",
    "\n",
    "# Remove Emails\n",
    "data = [re.sub('\\S*@\\S*\\s?', '', sent) for sent in data]\n",
    "\n",
    "# Remove new line characters\n",
    "data = [re.sub('\\s+', ' ', sent) for sent in data]\n",
    "\n",
    "# Remove distracting single quotes\n",
    "data = [re.sub(\"\\'\", \"\", sent) for sent in data]\n",
    "\n",
    "pprint(data[:1])"
   ]
  },
  {
   "cell_type": "markdown",
   "id": "ee59ecb8",
   "metadata": {},
   "source": [
    "## Tokenization(word) and preprocessing the text"
   ]
  },
  {
   "cell_type": "code",
   "execution_count": 6,
   "id": "11297055",
   "metadata": {},
   "outputs": [
    {
     "name": "stdout",
     "output_type": "stream",
     "text": [
      "[['from', 'wheres', 'my', 'thing', 'subject', 'what', 'car', 'is', 'this', 'nntp', 'posting', 'host', 'rac', 'wam', 'umd', 'edu', 'organization', 'university', 'of', 'maryland', 'college', 'park', 'lines', 'was', 'wondering', 'if', 'anyone', 'out', 'there', 'could', 'enlighten', 'me', 'on', 'this', 'car', 'saw', 'the', 'other', 'day', 'it', 'was', 'door', 'sports', 'car', 'looked', 'to', 'be', 'from', 'the', 'late', 'early', 'it', 'was', 'called', 'bricklin', 'the', 'doors', 'were', 'really', 'small', 'in', 'addition', 'the', 'front', 'bumper', 'was', 'separate', 'from', 'the', 'rest', 'of', 'the', 'body', 'this', 'is', 'all', 'know', 'if', 'anyone', 'can', 'tellme', 'model', 'name', 'engine', 'specs', 'years', 'of', 'production', 'where', 'this', 'car', 'is', 'made', 'history', 'or', 'whatever', 'info', 'you', 'have', 'on', 'this', 'funky', 'looking', 'car', 'please', 'mail', 'thanks', 'il', 'brought', 'to', 'you', 'by', 'your', 'neighborhood', 'lerxst']]\n"
     ]
    }
   ],
   "source": [
    "def sent_to_words(sentences):\n",
    "    for sentence in sentences:\n",
    "        yield(gensim.utils.simple_preprocess(str(sentence), deacc=True))  # deacc=True removes punctuations\n",
    "\n",
    "data_words = list(sent_to_words(data))\n",
    "\n",
    "print(data_words[:1])"
   ]
  },
  {
   "cell_type": "markdown",
   "id": "7ea6ca9e",
   "metadata": {},
   "source": [
    "## Creating the Bigrams and Trigrams\n",
    "\n",
    "Bigrams are two words frequently occurring together in the document. \n",
    "\n",
    "Trigrams are 3 words frequently occurring."
   ]
  },
  {
   "cell_type": "code",
   "execution_count": 7,
   "id": "b8a3ed31",
   "metadata": {},
   "outputs": [
    {
     "name": "stdout",
     "output_type": "stream",
     "text": [
      "['from', 'wheres', 'my', 'thing', 'subject', 'what', 'car', 'is', 'this', 'nntp_posting_host', 'rac_wam_umd_edu', 'organization', 'university', 'of', 'maryland_college_park', 'lines', 'was', 'wondering', 'if', 'anyone', 'out', 'there', 'could', 'enlighten', 'me', 'on', 'this', 'car', 'saw', 'the', 'other', 'day', 'it', 'was', 'door', 'sports', 'car', 'looked', 'to', 'be', 'from', 'the', 'late', 'early', 'it', 'was', 'called', 'bricklin', 'the', 'doors', 'were', 'really', 'small', 'in', 'addition', 'the', 'front_bumper', 'was', 'separate', 'from', 'the', 'rest', 'of', 'the', 'body', 'this', 'is', 'all', 'know', 'if', 'anyone', 'can', 'tellme', 'model', 'name', 'engine', 'specs', 'years', 'of', 'production', 'where', 'this', 'car', 'is', 'made', 'history', 'or', 'whatever', 'info', 'you', 'have', 'on', 'this', 'funky', 'looking', 'car', 'please', 'mail', 'thanks', 'il', 'brought', 'to', 'you', 'by', 'your', 'neighborhood', 'lerxst']\n"
     ]
    }
   ],
   "source": [
    "bigram = gensim.models.Phrases(data_words, min_count=5, threshold=100) # higher threshold fewer phrases.\n",
    "trigram = gensim.models.Phrases(bigram[data_words], threshold=100)  \n",
    "\n",
    "# Faster way to get a sentence clubbed as a trigram/bigram\n",
    "bigram_mod = gensim.models.phrases.Phraser(bigram)\n",
    "trigram_mod = gensim.models.phrases.Phraser(trigram)\n",
    "\n",
    "# See trigram example\n",
    "print(trigram_mod[bigram_mod[data_words[0]]])"
   ]
  },
  {
   "cell_type": "markdown",
   "id": "987cc0de",
   "metadata": {},
   "source": [
    "## Removing stopwords, Making Bigrams, and Defining Lemmatization"
   ]
  },
  {
   "cell_type": "code",
   "execution_count": 8,
   "id": "5dba0ebd",
   "metadata": {},
   "outputs": [],
   "source": [
    "# Define functions for stopwords, bigrams, trigrams and lemmatization\n",
    "def remove_stopwords(texts):\n",
    "    return [[word for word in simple_preprocess(str(doc)) if word not in stop_words] for doc in texts]\n",
    "\n",
    "def make_bigrams(texts):\n",
    "    return [bigram_mod[doc] for doc in texts]\n",
    "\n",
    "def make_trigrams(texts):\n",
    "    return [trigram_mod[bigram_mod[doc]] for doc in texts]\n",
    "\n",
    "def lemmatization(texts, allowed_postags=['NOUN', 'ADJ', 'VERB', 'ADV']):\n",
    "    \"\"\"https://spacy.io/api/annotation\"\"\"\n",
    "    texts_out = []\n",
    "    for sent in texts:\n",
    "        doc = nlp(\" \".join(sent)) \n",
    "        texts_out.append([token.lemma_ for token in doc if token.pos_ in allowed_postags])\n",
    "    return texts_out"
   ]
  },
  {
   "cell_type": "code",
   "execution_count": 9,
   "id": "1658a5d5",
   "metadata": {
    "scrolled": false
   },
   "outputs": [
    {
     "name": "stdout",
     "output_type": "stream",
     "text": [
      "[['s', 'thing', 'car', 'nntp_poste', 'host', 'umd', 'organization', 'park', 'line', 'wonder', 'enlighten', 'car', 'see', 'day', 'door', 'sport', 'car', 'look', 'late', 'early', 'call', 'bricklin', 'door', 'really', 'small', 'addition', 'separate', 'rest', 'body', 'know', 'tellme', 'model', 'name', 'engine', 'spec', 'year', 'production', 'car', 'make', 'history', 'info', 'funky', 'look', 'car', 'mail', 'thank', 'bring', 'neighborhood', 'lerxst']]\n"
     ]
    }
   ],
   "source": [
    "# Remove Stop Words\n",
    "data_words_nostops = remove_stopwords(data_words)\n",
    "\n",
    "# Form Bigrams\n",
    "data_words_bigrams = make_bigrams(data_words_nostops)\n",
    "\n",
    "# Initialize spacy 'en' model, keeping only tagger component (for efficiency)\n",
    "# python3 -m spacy download en\n",
    "nlp = spacy.load(\"en_core_web_sm\", disable=['parser', 'ner'])\n",
    "\n",
    "# Do lemmatization keeping only noun, adj, vb, adv\n",
    "data_lemmatized = lemmatization(data_words_bigrams, allowed_postags=['NOUN', 'ADJ', 'VERB', 'ADV'])\n",
    "\n",
    "print(data_lemmatized[:1])"
   ]
  },
  {
   "cell_type": "markdown",
   "id": "5909475a",
   "metadata": {},
   "source": [
    "## Creating the corpus for Topic Modelling"
   ]
  },
  {
   "cell_type": "code",
   "execution_count": 10,
   "id": "37e5bb79",
   "metadata": {},
   "outputs": [
    {
     "name": "stdout",
     "output_type": "stream",
     "text": [
      "[[(0, 1), (1, 1), (2, 1), (3, 1), (4, 1), (5, 5), (6, 1), (7, 2), (8, 1), (9, 1), (10, 1), (11, 1), (12, 1), (13, 1), (14, 1), (15, 1), (16, 1), (17, 1), (18, 1), (19, 2), (20, 1), (21, 1), (22, 1), (23, 1), (24, 1), (25, 1), (26, 1), (27, 1), (28, 1), (29, 1), (30, 1), (31, 1), (32, 1), (33, 1), (34, 1), (35, 1), (36, 1), (37, 1), (38, 1), (39, 1), (40, 1), (41, 1), (42, 1)]]\n"
     ]
    }
   ],
   "source": [
    "# Create Dictionary\n",
    "id2word = corpora.Dictionary(data_lemmatized)\n",
    "\n",
    "# Create Corpus\n",
    "texts = data_lemmatized\n",
    "\n",
    "# Term Document Frequency\n",
    "corpus = [id2word.doc2bow(text) for text in texts]\n",
    "\n",
    "# View\n",
    "print(corpus[:1])"
   ]
  },
  {
   "cell_type": "code",
   "execution_count": 11,
   "id": "0ee3f41a",
   "metadata": {},
   "outputs": [
    {
     "data": {
      "text/plain": [
       "'addition'"
      ]
     },
     "execution_count": 11,
     "metadata": {},
     "output_type": "execute_result"
    }
   ],
   "source": [
    "id2word[0]"
   ]
  },
  {
   "cell_type": "code",
   "execution_count": 12,
   "id": "dccbeec3",
   "metadata": {},
   "outputs": [
    {
     "data": {
      "text/plain": [
       "[[('addition', 1),\n",
       "  ('body', 1),\n",
       "  ('bricklin', 1),\n",
       "  ('bring', 1),\n",
       "  ('call', 1),\n",
       "  ('car', 5),\n",
       "  ('day', 1),\n",
       "  ('door', 2),\n",
       "  ('early', 1),\n",
       "  ('engine', 1),\n",
       "  ('enlighten', 1),\n",
       "  ('funky', 1),\n",
       "  ('history', 1),\n",
       "  ('host', 1),\n",
       "  ('info', 1),\n",
       "  ('know', 1),\n",
       "  ('late', 1),\n",
       "  ('lerxst', 1),\n",
       "  ('line', 1),\n",
       "  ('look', 2),\n",
       "  ('mail', 1),\n",
       "  ('make', 1),\n",
       "  ('model', 1),\n",
       "  ('name', 1),\n",
       "  ('neighborhood', 1),\n",
       "  ('nntp_poste', 1),\n",
       "  ('organization', 1),\n",
       "  ('park', 1),\n",
       "  ('production', 1),\n",
       "  ('really', 1),\n",
       "  ('rest', 1),\n",
       "  ('s', 1),\n",
       "  ('see', 1),\n",
       "  ('separate', 1),\n",
       "  ('small', 1),\n",
       "  ('spec', 1),\n",
       "  ('sport', 1),\n",
       "  ('tellme', 1),\n",
       "  ('thank', 1),\n",
       "  ('thing', 1),\n",
       "  ('umd', 1),\n",
       "  ('wonder', 1),\n",
       "  ('year', 1)]]"
      ]
     },
     "execution_count": 12,
     "metadata": {},
     "output_type": "execute_result"
    }
   ],
   "source": [
    "#(term-frequency)\n",
    "[[(id2word[id], freq) for id, freq in cp] for cp in corpus[:1]]"
   ]
  },
  {
   "cell_type": "markdown",
   "id": "a2869ed4",
   "metadata": {},
   "source": [
    "## Building the LDA Model"
   ]
  },
  {
   "cell_type": "code",
   "execution_count": 13,
   "id": "aca9531b",
   "metadata": {},
   "outputs": [],
   "source": [
    "# Build LDA model\n",
    "lda_model = gensim.models.ldamodel.LdaModel(corpus=corpus,\n",
    "                                           id2word=id2word,\n",
    "                                           num_topics=20, \n",
    "                                           random_state=100,\n",
    "                                           update_every=1,\n",
    "                                           chunksize=100,\n",
    "                                           passes=10,\n",
    "                                           alpha='auto',\n",
    "                                           per_word_topics=True)"
   ]
  },
  {
   "cell_type": "markdown",
   "id": "549af36c",
   "metadata": {},
   "source": [
    "## Topics in LDA Model"
   ]
  },
  {
   "cell_type": "code",
   "execution_count": 14,
   "id": "5ab7c4d2",
   "metadata": {},
   "outputs": [
    {
     "name": "stdout",
     "output_type": "stream",
     "text": [
      "[(0,\n",
      "  '0.064*\"nhl\" + 0.059*\"recommend\" + 0.051*\"gateway\" + 0.039*\"flight\" + '\n",
      "  '0.031*\"fuel\" + 0.027*\"floor\" + 0.024*\"bank\" + 0.018*\"space_station\" + '\n",
      "  '0.017*\"phase\" + 0.017*\"qualified\"'),\n",
      " (1,\n",
      "  '0.095*\"key\" + 0.040*\"physical\" + 0.037*\"public\" + 0.028*\"encryption\" + '\n",
      "  '0.027*\"chip\" + 0.025*\"security\" + 0.022*\"private\" + 0.021*\"master\" + '\n",
      "  '0.020*\"government\" + 0.018*\"clipper\"'),\n",
      " (2,\n",
      "  '0.028*\"believe\" + 0.025*\"evidence\" + 0.023*\"reason\" + 0.018*\"say\" + '\n",
      "  '0.017*\"claim\" + 0.015*\"christian\" + 0.015*\"sense\" + 0.013*\"exist\" + '\n",
      "  '0.012*\"fact\" + 0.012*\"faith\"'),\n",
      " (3,\n",
      "  '0.072*\"team\" + 0.069*\"game\" + 0.050*\"play\" + 0.048*\"win\" + 0.040*\"year\" + '\n",
      "  '0.034*\"player\" + 0.024*\"season\" + 0.018*\"fan\" + 0.018*\"goal\" + 0.017*\"run\"'),\n",
      " (4,\n",
      "  '0.093*\"ide\" + 0.078*\"mother\" + 0.040*\"remind\" + 0.019*\"ultimate\" + '\n",
      "  '0.015*\"winter\" + 0.012*\"beauty\" + 0.011*\"absurd\" + 0.009*\"grip\" + '\n",
      "  '0.004*\"credibility\" + 0.002*\"stall\"'),\n",
      " (5,\n",
      "  '0.135*\"monitor\" + 0.043*\"rd\" + 0.034*\"trivial\" + 0.021*\"suck\" + '\n",
      "  '0.009*\"space_dig\" + 0.009*\"added_forwarde\" + 0.008*\"rod\" + 0.004*\"infinity\" '\n",
      "  '+ 0.004*\"caution\" + 0.003*\"golden\"'),\n",
      " (6,\n",
      "  '0.033*\"government\" + 0.032*\"state\" + 0.020*\"country\" + 0.017*\"attack\" + '\n",
      "  '0.016*\"war\" + 0.015*\"israeli\" + 0.013*\"city\" + 0.013*\"greek\" + '\n",
      "  '0.013*\"force\" + 0.013*\"soldier\"'),\n",
      " (7,\n",
      "  '0.057*\"people\" + 0.023*\"group\" + 0.020*\"man\" + 0.020*\"say\" + 0.018*\"book\" + '\n",
      "  '0.016*\"issue\" + 0.014*\"live\" + 0.013*\"name\" + 0.012*\"day\" + 0.011*\"person\"'),\n",
      " (8,\n",
      "  '0.021*\"get\" + 0.016*\"go\" + 0.016*\"make\" + 0.015*\"write\" + 0.015*\"know\" + '\n",
      "  '0.014*\"think\" + 0.013*\"good\" + 0.013*\"time\" + 0.012*\"well\" + 0.012*\"see\"'),\n",
      " (9,\n",
      "  '0.135*\"line\" + 0.082*\"organization\" + 0.061*\"nntp_poste\" + 0.059*\"write\" + '\n",
      "  '0.055*\"host\" + 0.051*\"article\" + 0.028*\"thank\" + 0.025*\"reply\" + '\n",
      "  '0.022*\"university\" + 0.017*\"card\"'),\n",
      " (10,\n",
      "  '0.128*\"graphic\" + 0.067*\"mount\" + 0.054*\"convert\" + 0.042*\"workstation\" + '\n",
      "  '0.030*\"capture\" + 0.024*\"please_respond\" + 0.021*\"camera\" + '\n",
      "  '0.018*\"positively\" + 0.011*\"creature\" + 0.009*\"weeks_ago\"'),\n",
      " (11,\n",
      "  '0.094*\"child\" + 0.049*\"fire\" + 0.048*\"drug\" + 0.031*\"kid\" + '\n",
      "  '0.030*\"corporation\" + 0.026*\"die\" + 0.025*\"trial\" + 0.025*\"firearm\" + '\n",
      "  '0.024*\"boy\" + 0.024*\"wife\"'),\n",
      " (12,\n",
      "  '0.099*\"law\" + 0.075*\"gun\" + 0.029*\"crime\" + 0.027*\"weapon\" + 0.026*\"murder\" '\n",
      "  '+ 0.025*\"revelation\" + 0.020*\"blank\" + 0.017*\"death\" + 0.017*\"hole\" + '\n",
      "  '0.017*\"vote\"'),\n",
      " (13,\n",
      "  '0.107*\"space\" + 0.068*\"science\" + 0.040*\"field\" + 0.038*\"earth\" + '\n",
      "  '0.030*\"launch\" + 0.028*\"scientific\" + 0.026*\"orbit\" + 0.025*\"mission\" + '\n",
      "  '0.025*\"moon\" + 0.021*\"satellite\"'),\n",
      " (14,\n",
      "  '0.062*\"armenian\" + 0.048*\"turk\" + 0.042*\"turkish\" + 0.041*\"muslim\" + '\n",
      "  '0.021*\"islamic\" + 0.020*\"escape\" + 0.018*\"relation\" + 0.017*\"proceed\" + '\n",
      "  '0.015*\"genocide\" + 0.015*\"turkey\"'),\n",
      " (15,\n",
      "  '0.070*\"cop\" + 0.065*\"clipper_chip\" + 0.048*\"proposal\" + 0.040*\"crypto\" + '\n",
      "  '0.040*\"export\" + 0.021*\"revolver\" + 0.019*\"police\" + 0.015*\"entitle\" + '\n",
      "  '0.009*\"radar\" + 0.006*\"privately\"'),\n",
      " (16,\n",
      "  '0.124*\"image\" + 0.062*\"format\" + 0.062*\"scan\" + 0.056*\"family\" + '\n",
      "  '0.049*\"scsi\" + 0.041*\"headache\" + 0.023*\"quadra\" + 0.021*\"intel\" + '\n",
      "  '0.020*\"utility\" + 0.019*\"specification\"'),\n",
      " (17,\n",
      "  '0.776*\"ax\" + 0.019*\"wing\" + 0.016*\"direct\" + 0.009*\"dual\" + 0.008*\"quick\" + '\n",
      "  '0.007*\"trace\" + 0.006*\"human_being\" + 0.004*\"partner\" + 0.004*\"dirty\" + '\n",
      "  '0.004*\"quran\"'),\n",
      " (18,\n",
      "  '0.048*\"drive\" + 0.031*\"car\" + 0.022*\"buy\" + 0.021*\"high\" + 0.020*\"power\" + '\n",
      "  '0.020*\"price\" + 0.018*\"sell\" + 0.018*\"sale\" + 0.018*\"cost\" + 0.016*\"low\"'),\n",
      " (19,\n",
      "  '0.027*\"system\" + 0.024*\"use\" + 0.018*\"program\" + 0.017*\"file\" + '\n",
      "  '0.014*\"window\" + 0.013*\"run\" + 0.012*\"include\" + 0.011*\"available\" + '\n",
      "  '0.011*\"information\" + 0.010*\"source\"')]\n"
     ]
    }
   ],
   "source": [
    "# Print the Keyword in the 10 topics\n",
    "pprint(lda_model.print_topics())\n",
    "doc_lda = lda_model[corpus]"
   ]
  },
  {
   "cell_type": "markdown",
   "id": "b542a61e",
   "metadata": {},
   "source": [
    "## Calculating the Model Perplexity and Coherence Score"
   ]
  },
  {
   "cell_type": "code",
   "execution_count": 15,
   "id": "2eac0de3",
   "metadata": {},
   "outputs": [
    {
     "name": "stdout",
     "output_type": "stream",
     "text": [
      "\n",
      "Perplexity:  -13.36880802996656\n",
      "\n",
      "Coherence Score:  0.5237564492819576\n"
     ]
    }
   ],
   "source": [
    "# Compute Perplexity\n",
    "print('\\nPerplexity: ', lda_model.log_perplexity(corpus))  # a measure of how good the model is. lower the better.\n",
    "\n",
    "# Compute Coherence Score\n",
    "coherence_model_lda = CoherenceModel(model=lda_model, texts=data_lemmatized, dictionary=id2word, coherence='c_v')\n",
    "coherence_lda = coherence_model_lda.get_coherence()\n",
    "print('\\nCoherence Score: ', coherence_lda)"
   ]
  },
  {
   "cell_type": "markdown",
   "id": "397ce838",
   "metadata": {},
   "source": [
    "## Visualizing the Topic-keyword"
   ]
  },
  {
   "cell_type": "code",
   "execution_count": 16,
   "id": "cfb3f13c",
   "metadata": {},
   "outputs": [
    {
     "name": "stderr",
     "output_type": "stream",
     "text": [
      "R:\\NLP_projects\\nlpenv\\lib\\site-packages\\pyLDAvis\\_prepare.py:246: FutureWarning: In a future version of pandas all arguments of DataFrame.drop except for the argument 'labels' will be keyword-only.\n",
      "  default_term_info = default_term_info.sort_values(\n"
     ]
    },
    {
     "data": {
      "text/html": [
       "\n",
       "<link rel=\"stylesheet\" type=\"text/css\" href=\"https://cdn.jsdelivr.net/gh/bmabey/pyLDAvis@3.3.1/pyLDAvis/js/ldavis.v1.0.0.css\">\n",
       "\n",
       "\n",
       "<div id=\"ldavis_el342824489977049762715036137\"></div>\n",
       "<script type=\"text/javascript\">\n",
       "\n",
       "var ldavis_el342824489977049762715036137_data = {\"mdsDat\": {\"x\": [0.3428795947692193, 0.277900751696226, 0.2678726324361354, 0.2427830152221994, 0.21006601385594717, 0.1350082844466918, -0.03903392426394205, 0.09161796846426568, 0.04024901532155394, 0.04038515720424003, -0.04644435973263869, -0.0919929692180927, -0.11106735808901048, -0.15189388199272655, -0.17256950336137597, -0.19289039726672458, -0.19975820789457452, -0.21077043057139577, -0.21649968370595496, -0.21584171732004218], \"y\": [0.0678616638751449, -0.10923929735936388, 0.23367368017254597, 0.14019730400032557, -0.28020652714718647, -0.17840901910327175, -0.0774703520196629, 0.11719861364556451, 0.023354993570859118, -0.07640309606884435, 0.07752228067179924, -0.03785111322875879, 0.012405160488034549, 0.024894373334832624, 0.0031547588815946576, 0.008612358464379102, 0.009578066854474704, 0.01415247050304367, 0.013536949812796573, 0.013436730651692319], \"topics\": [1, 2, 3, 4, 5, 6, 7, 8, 9, 10, 11, 12, 13, 14, 15, 16, 17, 18, 19, 20], \"cluster\": [1, 1, 1, 1, 1, 1, 1, 1, 1, 1, 1, 1, 1, 1, 1, 1, 1, 1, 1, 1], \"Freq\": [38.238702634443364, 12.383482714430762, 8.63994457916124, 8.520648235866716, 8.306984674828065, 5.532291534265075, 4.338414120398262, 3.736654133879289, 2.3958625693420736, 2.011413207424599, 1.4355474879690535, 1.0853597038846168, 1.0600552670247299, 0.7503405153688805, 0.5236720569003862, 0.32966659932578996, 0.2641785715292626, 0.19606253840606389, 0.13680190857806757, 0.11391694697368919]}, \"tinfo\": {\"Term\": [\"ax\", \"line\", \"organization\", \"write\", \"article\", \"nntp_poste\", \"people\", \"host\", \"year\", \"drive\", \"say\", \"key\", \"team\", \"system\", \"use\", \"game\", \"right\", \"law\", \"good\", \"believe\", \"m\", \"thank\", \"state\", \"get\", \"go\", \"space\", \"reason\", \"evidence\", \"run\", \"think\", \"s\", \"much\", \"really\", \"ve\", \"sure\", \"still\", \"back\", \"re\", \"hear\", \"little\", \"put\", \"lot\", \"probably\", \"enough\", \"maybe\", \"turn\", \"hard\", \"ill\", \"else\", \"sound\", \"guess\", \"experience\", \"pretty\", \"couple\", \"suggest\", \"disk\", \"bike\", \"care\", \"section\", \"soon\", \"time\", \"go\", \"long\", \"bad\", \"well\", \"let\", \"good\", \"get\", \"great\", \"actually\", \"make\", \"see\", \"start\", \"think\", \"want\", \"know\", \"try\", \"way\", \"take\", \"thing\", \"give\", \"d\", \"tell\", \"even\", \"come\", \"write\", \"m\", \"seem\", \"work\", \"say\", \"article\", \"also\", \"look\", \"right\", \"program\", \"file\", \"window\", \"available\", \"software\", \"machine\", \"copy\", \"test\", \"version\", \"code\", \"entry\", \"memory\", \"application\", \"screen\", \"hardware\", \"cpu\", \"device\", \"network\", \"pc\", \"tape\", \"server\", \"display\", \"function\", \"package\", \"mode\", \"input\", \"character\", \"faq\", \"normal\", \"notice\", \"instal\", \"user\", \"datum\", \"system\", \"source\", \"include\", \"use\", \"information\", \"run\", \"bit\", \"set\", \"support\", \"do\", \"message\", \"also\", \"problem\", \"work\", \"follow\", \"number\", \"evidence\", \"claim\", \"christian\", \"sense\", \"faith\", \"god\", \"religion\", \"argument\", \"patient\", \"truth\", \"belief\", \"atheist\", \"church\", \"statement\", \"conclusion\", \"religious\", \"reality\", \"deny\", \"define\", \"authority\", \"nature\", \"knowledge\", \"therefore\", \"respect\", \"disease\", \"moral\", \"clearly\", \"refer\", \"telnet\", \"proof\", \"believe\", \"prove\", \"exist\", \"reason\", \"true\", \"word\", \"accept\", \"view\", \"explain\", \"fact\", \"mean\", \"say\", \"question\", \"example\", \"agree\", \"point\", \"people\", \"however\", \"many\", \"think\", \"man\", \"discussion\", \"internet\", \"human\", \"body\", \"serious\", \"lie\", \"bear\", \"account\", \"quote\", \"dead\", \"treatment\", \"doctor\", \"terrorism\", \"suffer\", \"heart\", \"rational\", \"context\", \"past\", \"scripture\", \"justify\", \"club\", \"medical\", \"hide\", \"concerned\", \"topic\", \"father\", \"anti\", \"principle\", \"grow\", \"book\", \"indeed\", \"woman\", \"face\", \"group\", \"age\", \"study\", \"people\", \"issue\", \"live\", \"young\", \"risk\", \"posting\", \"person\", \"life\", \"death\", \"name\", \"appear\", \"become\", \"day\", \"begin\", \"say\", \"member\", \"bring\", \"post\", \"order\", \"come\", \"many\", \"call\", \"first\", \"also\", \"nntp_poste\", \"host\", \"thank\", \"card\", \"keyword\", \"color\", \"appreciate\", \"usa\", \"version_pl\", \"distribution_usa\", \"manual\", \"printer\", \"dept\", \"signal\", \"baseball\", \"communication\", \"circuit\", \"interface\", \"serial\", \"park\", \"greatly_appreciate\", \"brave\", \"spec\", \"consult\", \"guilty\", \"purdue_university\", \"automatically\", \"appreciated\", \"bounce\", \"voltage\", \"university\", \"reply\", \"advance\", \"com\", \"organization\", \"line\", \"interested\", \"driver\", \"laboratory\", \"phone\", \"mine\", \"article\", \"write\", \"mail\", \"help\", \"computer\", \"post\", \"email\", \"need\", \"net\", \"m\", \"technology\", \"research\", \"look\", \"info\", \"know\", \"drive\", \"car\", \"price\", \"sell\", \"sale\", \"cost\", \"low\", \"rate\", \"pin\", \"cheap\", \"wire\", \"engine\", \"eat\", \"cool\", \"radio\", \"air\", \"owner\", \"purchase\", \"mile\", \"market\", \"hot\", \"processor\", \"expensive\", \"insurance\", \"cable\", \"warranty\", \"student\", \"surface\", \"battery\", \"cycle\", \"ground\", \"buy\", \"front\", \"replace\", \"safety\", \"power\", \"model\", \"meet\", \"high\", \"pay\", \"speed\", \"job\", \"increase\", \"new\", \"lead\", \"offer\", \"less\", \"old\", \"ax\", \"wing\", \"direct\", \"dual\", \"quick\", \"trace\", \"human_being\", \"partner\", \"dirty\", \"quran\", \"tm\", \"semi\", \"adam\", \"eve\", \"genesis\", \"rutger\", \"ruler\", \"stamp\", \"appoint\", \"rushdie\", \"herein\", \"seattle_wa\", \"optimize\", \"preliminary\", \"keen\", \"persistent\", \"islamic_law\", \"mf\", \"pl_pl\", \"wm\", \"end\", \"country\", \"war\", \"israeli\", \"community\", \"military\", \"land\", \"arab\", \"trust\", \"political\", \"occupy\", \"withdraw\", \"arm\", \"route\", \"united_state\", \"plane\", \"international\", \"civilian\", \"impact\", \"bomb\", \"aim\", \"minority\", \"zone\", \"ethnic\", \"percent\", \"constitution\", \"inhabitant\", \"british\", \"invasion\", \"duty\", \"consideration\", \"village\", \"attack\", \"city\", \"soldier\", \"greek\", \"government\", \"population\", \"state\", \"national\", \"force\", \"policy\", \"citizen\", \"police\", \"report\", \"control\", \"area\", \"jewish\", \"year\", \"right\", \"kill\", \"team\", \"game\", \"play\", \"win\", \"player\", \"season\", \"fan\", \"score\", \"pen\", \"average\", \"pack\", \"stat\", \"militia\", \"helmet\", \"devil\", \"decent\", \"predict\", \"offense\", \"pitch\", \"deserve\", \"penguin\", \"daughter\", \"leafs\", \"cross\", \"penalty\", \"rob\", \"pt\", \"hitter\", \"captain\", \"restore\", \"goal\", \"division\", \"star\", \"trade\", \"year\", \"hit\", \"lose\", \"run\", \"pick\", \"final\", \"last\", \"first\", \"defense\", \"next\", \"key\", \"physical\", \"encryption\", \"security\", \"private\", \"master\", \"clipper\", \"secure\", \"tap\", \"secret\", \"listen\", \"health\", \"nsa\", \"session\", \"statistic\", \"privacy\", \"production\", \"finish\", \"scheme\", \"ban\", \"pgp\", \"approve\", \"implementation\", \"warrant\", \"cryptography\", \"brother\", \"giant\", \"prevention\", \"fed\", \"danger\", \"criminal\", \"public\", \"chip\", \"block\", \"protect\", \"government\", \"technology\", \"industry\", \"system\", \"phone\", \"information\", \"provide\", \"bit\", \"law\", \"gun\", \"weapon\", \"revelation\", \"blank\", \"disagree\", \"baby\", \"expansion\", \"gun_control\", \"mercy\", \"ammunition\", \"violate\", \"relationship\", \"regulation\", \"follower\", \"analogy\", \"handgun\", \"civil\", \"translate\", \"shotgun\", \"trigger\", \"massive\", \"upset\", \"rifle\", \"tavare\", \"appeal\", \"cash\", \"arbitrary\", \"television\", \"competition\", \"crime\", \"hole\", \"vote\", \"court\", \"murder\", \"packet\", \"property\", \"shoot\", \"prohibit\", \"commit\", \"license\", \"death\", \"kill\", \"carry\", \"protect\", \"right\", \"state\", \"person\", \"objective\", \"science\", \"field\", \"launch\", \"scientific\", \"orbit\", \"mission\", \"moon\", \"satellite\", \"shuttle\", \"frame\", \"astronomy\", \"probe\", \"unknown\", \"spring\", \"sky\", \"origin\", \"locate\", \"mar\", \"regularly\", \"lunar\", \"radiation\", \"solar\", \"ozone\", \"evolution\", \"planetary\", \"observe\", \"frequently_aske\", \"intelligence\", \"atmosphere\", \"orbital\", \"space\", \"earth\", \"rocket\", \"objective\", \"project\", \"research\", \"fire\", \"drug\", \"kid\", \"corporation\", \"firearm\", \"boy\", \"wife\", \"parent\", \"fill\", \"dream\", \"abuse\", \"violence\", \"insert\", \"immediate\", \"lawyer\", \"investigation\", \"koresh\", \"threat\", \"sheet\", \"unable\", \"compound\", \"cult\", \"chief\", \"scare\", \"unusual\", \"afford\", \"scope\", \"atf\", \"rain\", \"survivor\", \"child\", \"trial\", \"tank\", \"alive\", \"step\", \"die\", \"sad\", \"report\", \"witness\", \"armenian\", \"turk\", \"turkish\", \"muslim\", \"islamic\", \"escape\", \"relation\", \"genocide\", \"turkey\", \"massacre\", \"moslem\", \"nazi\", \"conservative\", \"plot\", \"slaughter\", \"kurd\", \"stuff_delete\", \"rebel\", \"mad\", \"longer_exist\", \"remainder\", \"mountain_passe\", \"might_serve\", \"extermination_ohanus\", \"melkonian\", \"volunteer\", \"serdar_argic\", \"territorial\", \"fascist\", \"atrocity\", \"proceed\", \"democracy\", \"region\", \"murder\", \"road\", \"today\", \"soldier\", \"destroy\", \"close\", \"image\", \"format\", \"scan\", \"family\", \"scsi\", \"headache\", \"quadra\", \"intel\", \"utility\", \"specification\", \"ftp_site\", \"significance\", \"maximum\", \"app\", \"press_release\", \"association\", \"tiff\", \"assembler\", \"developer\", \"synchronous\", \"intentionally\", \"script\", \"nm\", \"txt\", \"thesis\", \"ini_file\", \"las_cruce\", \"esdi\", \"fasst\", \"detailed\", \"mb\", \"wide\", \"environment\", \"nhl\", \"recommend\", \"gateway\", \"flight\", \"fuel\", \"floor\", \"bank\", \"space_station\", \"phase\", \"qualified\", \"simms\", \"motor\", \"crew\", \"meg\", \"micro\", \"simm\", \"diameter\", \"tail\", \"utilize\", \"dock\", \"redesign\", \"n\", \"in\", \"ist\", \"ssf\", \"propulsion\", \"ists_ca\", \"cone\", \"ns_simms\", \"bee\", \"station\", \"graphic\", \"mount\", \"convert\", \"workstation\", \"capture\", \"please_respond\", \"camera\", \"positively\", \"creature\", \"weeks_ago\", \"biological\", \"shareware\", \"cord\", \"hassle\", \"reflection\", \"clinton_gore\", \"visualization\", \"cubic\", \"impedance\", \"jubilees_re\", \"baby_bike\", \"wide_glide\", \"workshop\", \"scott_roby\", \"wild_corn\", \"corinthian\", \"cooler\", \"este\", \"vertical\", \"socket\", \"cop\", \"clipper_chip\", \"proposal\", \"crypto\", \"export\", \"revolver\", \"entitle\", \"radar\", \"privately\", \"chamber\", \"ab\", \"cock\", \"malfunction\", \"police\", \"encrypt\", \"ripem\", \"key_escrow\", \"escrow_house\", \"glock\", \"crap\", \"law_enforcement\", \"assertion\", \"agency\", \"protocol\", \"database\", \"corp_sunnyvale\", \"announcement\", \"spoof_chip\", \"escrow\", \"detection\", \"poster\", \"transmit\", \"chance\", \"judge\", \"president\", \"rd\", \"trivial\", \"suck\", \"monitor\", \"space_dig\", \"added_forwarde\", \"rod\", \"infinity\", \"caution\", \"golden\", \"_\", \"c\", \"cx\", \"gc\", \"sy\", \"hz\", \"vram_simms\", \"zd\", \"sphere\", \"sj\", \"cx_sc\", \"ucs\", \"y\", \"cua\", \"desk\", \"gy\", \"cx_cx\", \"mc\", \"r\", \"caste\", \"sp\", \"centris\", \"paranoia\", \"rlk\", \"ide\", \"mother\", \"remind\", \"ultimate\", \"winter\", \"beauty\", \"absurd\", \"grip\", \"credibility\", \"stall\", \"slave\", \"jumper\", \"dma\", \"sector\", \"cp_ut\", \"isa_bus\", \"maxtor\", \"prophesy\", \"prayer\", \"vesa_local\", \"prediction\", \"master_slave\", \"pray\", \"alessandro\", \"guido\", \"ide_controller\", \"intrinsically\", \"setting\", \"messenger\", \"maria\", \"pdiag\", \"evil\", \"disabled\", \"closed\", \"mbyte\", \"laugh\", \"_\", \"os\"], \"Freq\": [43299.0, 17046.0, 9996.0, 13715.0, 9744.0, 6543.0, 8076.0, 5865.0, 4779.0, 3429.0, 8939.0, 2462.0, 2226.0, 5364.0, 6469.0, 2129.0, 4052.0, 1825.0, 6779.0, 3160.0, 5682.0, 2987.0, 2896.0, 10701.0, 7955.0, 1563.0, 3273.0, 2761.0, 3365.0, 7615.0, 4450.682751091453, 3845.3185249421804, 3153.0892654643185, 2976.620125695431, 2780.2319939804074, 2775.902166450186, 2652.5257714910063, 2311.6728767089126, 2151.970975167752, 2097.0867433316107, 2042.6014589705019, 2042.013452049471, 2011.9802375134448, 1750.7258327647198, 1506.2740290577735, 1317.105061333708, 1265.777939485788, 1215.772402675638, 1156.708835543833, 1146.6887993486503, 966.1253552576927, 957.7697746209902, 922.8289110397008, 905.0641896816308, 895.1242634211934, 885.9071576576869, 863.5244418898401, 828.3838756855068, 810.6240753662855, 771.5057647949366, 6496.489980764934, 7903.7688446177435, 2499.388078002878, 2250.9287175889144, 6121.980613541047, 2185.120237279844, 6616.054287257876, 10307.261897447537, 1960.9026008908743, 1558.7839168708265, 7758.044753376476, 5801.136662717532, 2084.275333681609, 6659.375908883931, 4294.249106002374, 7281.474871515976, 3824.0282797987325, 3822.844712734252, 4192.976415352598, 4030.7624951433518, 3677.771343048645, 2747.9280061226427, 3047.4601965630923, 3480.933909042464, 3922.7170817246783, 7317.861261648362, 4009.3484229293404, 2758.2413591217573, 3555.7467460169105, 4747.980789894618, 4338.881326160862, 3630.1462157280707, 3029.121201415662, 2997.8790135215645, 2899.1789895684615, 2757.491837317286, 2175.605951523497, 1743.39954831987, 1525.9828720407413, 1397.7646168925914, 1338.36353997339, 1316.9278111368515, 1267.6514595632402, 1236.5397511879098, 1156.3853296240077, 1120.3796679701748, 1029.1804216718836, 1008.6292127746455, 980.2369603226415, 912.9309450872837, 879.3240054443199, 872.8301629200399, 853.2839993472779, 848.0188338123421, 843.167279377825, 835.1847333874503, 818.1768670409854, 744.5406747490401, 744.4231884418424, 702.0701529974978, 699.8193821974594, 667.4250346677123, 596.6087361200734, 595.6123262244859, 809.426175560711, 1027.8909631229797, 1291.8755795065083, 4290.014656918949, 1619.759182340512, 1940.6770702012636, 3857.8927549078808, 1738.2741803719216, 2118.678684078377, 1601.23548319771, 1434.4717866923675, 1261.2690993140552, 1372.9578834637873, 1145.785470379908, 1563.7786247474617, 1310.558496685816, 1305.5752982881547, 1070.4006963928234, 1055.9041461901195, 2760.833282232098, 1906.5907632762123, 1633.5423452839111, 1622.425753133159, 1334.6168234401466, 1007.1197866101911, 982.9289393702232, 967.6095830107429, 863.7983695781362, 843.4056077152414, 817.0004820272028, 718.6179122954086, 690.2460216274529, 630.6768838786351, 615.0622800495163, 586.1027905463827, 544.4087693080452, 520.618049879006, 508.54191638096546, 500.05126318946327, 459.778091308429, 459.13660425055645, 453.9801943350263, 420.81504451906545, 420.4756573199935, 415.4237915908136, 408.12113581546095, 397.38070104260606, 382.71451958968237, 377.96977018533124, 3080.792794415907, 890.2474022729575, 1464.7310231751665, 2513.55708774997, 1261.023508457724, 1075.283837298066, 837.694749013235, 896.2380970335054, 772.3890496385344, 1336.159205737308, 1259.6382398079195, 2041.1054897569893, 1220.464501445372, 762.5045429172209, 743.7371677636035, 964.0697163437598, 1111.6603528303806, 822.9779374547279, 905.2883189098013, 954.6994749645523, 2216.159989920273, 1041.7037562331323, 954.3077275162609, 907.0607339702636, 770.5330321368272, 603.1678964432975, 600.747797119751, 493.206867957935, 488.0156730506019, 461.2346379934624, 453.9007950348445, 444.8276284111636, 397.99081903008636, 390.52584974408154, 378.9514650011679, 358.8445100978709, 355.3848355385685, 347.6970126984924, 346.1825826703849, 336.7805036836862, 335.73707779148634, 328.25838894808476, 326.27560689181917, 306.8647792707098, 299.30573666270374, 295.6885677047351, 285.7902385564359, 284.3916087330472, 275.0935994744828, 269.08726394970046, 1999.9003917475475, 631.4552266980435, 731.3615026799548, 975.796328552935, 2565.415855451678, 730.3168782390603, 844.2403087084833, 6289.536770653421, 1755.0649445981674, 1503.9925560549732, 681.6396845870402, 604.1425460412612, 586.3999961987699, 1219.4953475316286, 1164.0634394497647, 962.0666727458902, 1383.6193015427618, 773.1407680836551, 952.5606005341655, 1262.403084782767, 737.8873708122544, 2149.5372071767038, 648.6789834630629, 720.5528375466188, 993.8154626324623, 883.0479383808727, 1016.8196412438663, 961.9995540189974, 863.0997019259725, 836.4691229815485, 821.1047487593319, 6542.467653550662, 5864.846196643737, 2986.674033373057, 1806.577319264527, 955.7379262319967, 926.6226378726459, 628.7822398347356, 561.625165156133, 518.0936949658509, 490.07584614925184, 419.7417608166425, 403.6056553853403, 390.503780595947, 389.65232145362984, 359.4665186347768, 353.05737922005574, 307.2193020364922, 282.8723887390137, 212.80024493652152, 175.45418486810496, 174.01503543918233, 172.94260663858105, 172.9146498000639, 171.618205798521, 165.32812845552846, 141.51913257608152, 136.38248303759326, 135.57219465969087, 130.52495976746934, 123.40264127786777, 2301.1945294551974, 2662.1065993738707, 681.6848323513401, 1304.3523683770095, 8711.166508523265, 14422.520537510616, 877.7146536903284, 1234.660109405591, 354.18343443300165, 826.9859570918567, 334.95942222430045, 5404.791345947815, 6334.746230134496, 1557.9252942260052, 1556.8415285482463, 1051.0110529394194, 1266.119943518185, 774.3135330154405, 1641.434322510215, 711.2173476239813, 1672.5004487573065, 709.2303610095141, 644.4866489174278, 1003.2683803933637, 683.4056509683287, 971.9772071900629, 3428.3282384034455, 2209.2382871502455, 1429.7222086155584, 1301.8380447728914, 1259.0829181869458, 1251.1810990696972, 1114.2910734923605, 973.2887375250461, 908.5517714108937, 833.7449696779161, 711.6424260135947, 589.5795537066721, 490.8568509856647, 434.9222239329166, 418.0041781937982, 410.5170207938667, 401.2895557839785, 400.6304416790849, 386.8138152387015, 384.2670333064689, 363.5283841784789, 352.57998363215495, 350.35901679628734, 347.3720417472766, 344.71525292916897, 337.84932646813445, 335.974175980609, 310.63656348406874, 290.81224311161617, 276.81143295683273, 567.214114008093, 1564.9717341548915, 411.4691002567785, 568.965349454395, 566.3765119095611, 1456.2993689002005, 781.7303893247808, 464.7514089699239, 1498.794611669064, 932.747060748149, 735.399211081507, 521.412008617205, 575.8283618257375, 1031.6542452154565, 531.8476287216942, 485.75216059692076, 503.08543100250125, 489.62180679072344, 43298.35868976948, 1073.8241635680245, 914.7332776693703, 498.0238979815208, 426.01722870725445, 397.04450394276586, 326.9177174301169, 250.57288713111012, 229.5402266484604, 198.48275394427432, 197.53602181127044, 176.22822549876153, 141.5703427239062, 115.39821245748209, 106.26561158794074, 86.12639595911875, 82.12251393106186, 81.8396265160009, 81.03970057744264, 72.2943413780155, 66.52428598097892, 63.5275322309278, 23.643373603844886, 19.64883535217131, 17.085999955404052, 11.790916611795112, 3.702889321785227, 0.1357241416154155, 0.13569409022413578, 0.13568560736305305, 5.8363812774938175, 944.0711210971633, 771.9971149283947, 741.7041470501775, 604.1313662824124, 564.5362145763355, 526.8007928543386, 417.65503209290137, 401.5737848976152, 383.80028809205, 382.6464002068491, 377.52008720556006, 375.50723614254844, 346.70602454251224, 345.6589814417193, 323.6432300289423, 320.5802940207418, 320.00938903392745, 301.73099079163944, 293.9750480430531, 267.1731334052642, 256.2255130577191, 245.5747633033175, 243.5728270937267, 240.4295282405654, 238.5217102752259, 217.08341723461632, 213.53114687571946, 205.96565489942398, 202.2070088181633, 198.66247726927378, 566.3896819396002, 837.9147776488568, 634.410064331772, 622.7215983082915, 633.1233194192772, 1598.0452997245843, 335.958964626574, 1535.234433724532, 474.1468242244036, 630.6651065502932, 363.68967066426313, 382.50728055874, 367.4817994003822, 559.8780324809828, 483.6730309454241, 431.07712575704716, 362.46150362289336, 521.7919934593463, 500.8658038693969, 419.8447574609366, 2225.169879472716, 2128.286278719782, 1527.3296942652337, 1489.5414783536812, 1041.9183808484295, 726.8571487703795, 564.2111830594058, 514.1778271101463, 404.4266042399175, 374.9296213209874, 319.8274376521863, 277.36970266561246, 274.14735475622143, 267.1186678936903, 212.51609328097996, 208.75872857798484, 205.17088791919574, 201.27701197545986, 199.2109583017752, 185.68650759564025, 183.37989928888638, 180.14296666137014, 178.532968662315, 172.2079335004024, 153.08827151643297, 140.27286469775532, 136.1297865447167, 127.92514404180895, 125.34608689047123, 114.5781192281464, 561.8822746182522, 428.06514824956054, 286.39151961120245, 363.243088894304, 1223.652630605066, 312.83408682255623, 368.8772931402626, 518.7892367674261, 291.38253348556486, 256.7238223515035, 363.07799619513304, 362.3893164175457, 212.68022513834714, 251.227692506832, 2461.421700420594, 1029.348319154817, 731.1469759715501, 655.621266125793, 576.8904857964525, 540.9338541429278, 470.416909708354, 416.1548429640366, 398.08878163870037, 375.1980904201813, 354.50094034822814, 342.4245928755964, 288.221593010533, 263.0843377069575, 224.73762847455072, 196.34953970165105, 186.16418718545577, 180.7317800538663, 170.14132699012498, 169.7271364519885, 162.56192427968185, 160.89430229731798, 160.61921871452216, 138.47373816830398, 138.23596568595826, 128.9518466077086, 128.19277821465326, 120.46806809171176, 120.24603152685178, 114.48902143326309, 335.94019089920863, 953.8426915664174, 709.4871296775926, 350.2458374946363, 309.8644873750185, 519.917410626658, 374.4707707757181, 185.5435154041055, 304.2210600247813, 197.49691322917465, 213.33560178733686, 205.63853486756847, 194.61528989421748, 1823.8527709659215, 1391.2768060203373, 491.11769158527096, 470.02411238023853, 374.57798824157254, 309.30782015701857, 214.82619910431617, 197.35988223092855, 189.58334731807736, 150.22014835586285, 141.99161701260115, 138.89052382699177, 137.5915818780951, 135.10780125773266, 130.8641028224945, 124.25729191396536, 120.44009518633193, 108.93982701061242, 101.71137278513628, 99.3686079706266, 94.51728101213746, 84.46633670099489, 79.73747377669095, 78.09300830277172, 77.04594596614498, 76.48889443596265, 70.9730935417785, 70.91037497697933, 64.60970267200996, 63.76823933523933, 540.937559269386, 314.47131354112616, 311.02950018406636, 282.52810145398, 471.6318867633655, 128.924209621988, 213.53343535080114, 308.968234230061, 128.5300596607141, 184.32354626521112, 219.92760119520022, 315.36929146903043, 292.7914330464133, 233.21070408020836, 204.00076343805046, 277.71187592544084, 195.1618538879187, 164.82990484499126, 139.20002649660424, 943.3453486237624, 564.58441358044, 418.27514361814576, 386.7607430253054, 369.21508238910263, 352.9059404546017, 344.8390611494762, 296.60500886169973, 180.19498355154812, 177.81544580744978, 177.65604422040735, 170.41124988529924, 170.25751336933203, 167.94421537831016, 165.13663993597754, 151.26515469722483, 149.1796159513339, 133.95242463250148, 131.17546136322653, 130.48029477454517, 129.25274143761834, 128.69917563925227, 113.8144612548235, 108.75247337677354, 97.21364611964371, 94.19248710315041, 88.66756806729639, 77.72288462910105, 67.2055632384613, 61.840870863074606, 1490.7603350497734, 530.3553784934342, 171.59948555003908, 162.13831011645468, 165.48674392708102, 201.07258952316064, 672.5694989827332, 652.8733611171936, 422.96122817804076, 409.1106220412067, 334.48581587088677, 333.4922881673161, 330.81089280905496, 313.33269862551646, 288.7931354131868, 219.54911487934905, 198.7872919654629, 186.50589868668644, 174.67911190842105, 169.77173987497508, 139.94048999163485, 139.0336881576031, 137.69521129017423, 131.0691086645607, 122.1249354750816, 117.12246193939322, 113.29444246402359, 103.16925430194134, 95.85093735926536, 92.27299397185797, 90.8735716861586, 77.99769249554637, 74.49516787352819, 71.25206578414819, 70.52361416529055, 65.5059820034441, 1284.90956938758, 339.9595964110829, 181.08210544530706, 132.87544076059527, 209.8685839813543, 356.0746944431853, 113.04878261875955, 136.9070642527753, 105.50650633373316, 595.486443767187, 466.1406840445854, 409.41436088611516, 394.9755714298391, 200.9145517911314, 192.63127216875188, 175.4134182538543, 142.5614561262282, 142.4442148215824, 128.28406659041448, 119.29600072808599, 119.01111657417535, 114.32512930194243, 108.30739506800423, 105.21706446713742, 90.38108101692718, 84.27140056828208, 75.62262665807442, 61.469736393053765, 61.36157652872339, 60.19337184506239, 58.75264759957204, 58.745340228952266, 58.67523528242237, 58.67523528242237, 55.56104681263592, 53.76787106006718, 35.30269344439856, 33.3271904859323, 32.0407586538326, 159.63952233174038, 66.9250635855787, 67.00601056817261, 86.34896643003609, 78.06857023232646, 78.27430842123294, 64.96180170801239, 62.12916932721386, 63.476788598550534, 833.8566718874895, 417.79299406447785, 416.61884345437124, 375.64569399524817, 328.2729309604838, 274.97600221902326, 154.4527634560455, 141.92790934579995, 134.63325763395997, 126.3599004961146, 88.87458494626286, 85.27208936079154, 69.05457759688944, 67.99729538304967, 49.6742498171961, 44.46536232852703, 40.069459977207856, 36.06815929602168, 34.58310251649877, 27.34529265365307, 27.169140597408916, 19.666809570188107, 17.690890793980422, 11.248918537056195, 11.050233016493213, 10.765374920593075, 8.137613291915953, 8.065634722463233, 2.170656532560193, 103.56583632939412, 97.62810430955984, 47.603196016288905, 24.37445814913086, 269.8114338283448, 250.68594694200294, 214.96663653363242, 164.94256223880018, 131.701289162302, 114.11521039091039, 99.67931767357732, 75.0500665239904, 73.49506155297554, 72.67585563173051, 72.1788794938775, 71.96163644252785, 69.35915577426127, 67.4585494151948, 55.54797791953931, 50.75536241178783, 45.27042724780499, 41.24195902289829, 34.95191904260943, 34.821662404346974, 32.725982867145184, 30.218022619614437, 19.745130402788217, 18.67368124851104, 13.022076391488325, 11.800277609718156, 9.285179985114311, 5.588348693406582, 4.4144119743701795, 3.3833831263194654, 36.00494362134568, 434.0970284183965, 225.92992458431135, 182.0137950872435, 142.96323299542073, 100.80614187264806, 81.25507940051517, 69.69667019363028, 59.485846521072716, 36.78648986653245, 31.794985001330698, 28.54997884470181, 27.640174704475573, 23.449070535280164, 23.15908483559721, 19.112161521495686, 15.847795575782529, 14.28809993540307, 11.26697978528459, 10.41310919561694, 9.736598183134664, 9.734412043429607, 9.734412043429607, 8.26648604117895, 8.0317563073431, 5.613586138235395, 5.339613022413793, 0.03593183001322625, 0.03593183001322625, 0.035931965905726004, 0.03593194428646468, 175.71453103391474, 164.74459794568932, 121.93796121660384, 101.39314376141533, 100.51258908366319, 53.110858651322694, 38.23537358250821, 23.14087647354805, 15.156830221704228, 13.586954452855897, 10.195840184312367, 3.936329791176635, 2.7597069107563197, 47.92476338702898, 0.03286955859320079, 0.03286981760424823, 0.03286557486576321, 0.032864953697675996, 0.03286488264154794, 0.03286485513594998, 0.03286498807967344, 0.03286444484411377, 0.03286583616894381, 0.03286487805728161, 0.03286450214744285, 0.032863874102956145, 0.032865292933384145, 0.03286398641748114, 0.03286386035015717, 0.03286377554123013, 0.03286406205787552, 0.03286412165333777, 0.03286470614729437, 0.03286439441718418, 0.03286425459706123, 76.44880081352564, 59.02608156719533, 36.9698840980395, 237.8386231946324, 16.441584441564952, 15.52634950044082, 14.670930325603916, 7.6616743190742165, 7.433592727595382, 5.337058635326593, 0.025581915214402933, 0.025563791636210798, 0.025554725049132507, 0.02554913060185788, 0.02554885871619845, 0.02554845408636412, 0.025548377318648518, 0.025548198193978775, 0.02554960240344336, 0.025548751561262083, 0.025547932705628978, 0.025547932705628978, 0.02554779996145408, 0.02554779996145408, 0.025547847941276333, 0.02554779996145408, 0.02554766881660659, 0.02554767841257104, 0.02554778876616222, 0.025547652823332507, 0.025548073446440916, 0.025547803160108896, 0.025547742385667378, 0.02554795029823047, 135.50861899147046, 113.97067156565123, 58.37785145693461, 28.163415946217174, 22.631259936006142, 17.149021123805298, 15.427130767352873, 13.84856876086282, 5.756156078057014, 3.629303025852111, 0.020940895159333683, 0.02093824624237433, 0.02093667740166135, 0.02093670803267697, 0.020936765299358343, 0.020935992865051444, 0.020936296511641053, 0.020935722513044028, 0.02093620861394406, 0.02093579176577499, 0.02093600618288432, 0.020935874336338832, 0.020935747816926496, 0.02093556669439936, 0.020935390899005375, 0.02093541886645442, 0.020935349613723456, 0.02093574648514321, 0.020935370922256058, 0.020935445502120176, 0.02093554139051689, 0.020935936930153356, 0.020935584007582102, 0.02093554938121662, 0.02093547213778593, 0.020935617302164294, 0.020936092748798023, 0.020935558703699633], \"Total\": [43299.0, 17046.0, 9996.0, 13715.0, 9744.0, 6543.0, 8076.0, 5865.0, 4779.0, 3429.0, 8939.0, 2462.0, 2226.0, 5364.0, 6469.0, 2129.0, 4052.0, 1825.0, 6779.0, 3160.0, 5682.0, 2987.0, 2896.0, 10701.0, 7955.0, 1563.0, 3273.0, 2761.0, 3365.0, 7615.0, 4451.828179446094, 3846.463953296821, 3154.234693818959, 2977.7655540500714, 2781.3774223413607, 2777.0834558733586, 2653.6711998456467, 2312.818305063553, 2153.1164035223924, 2098.232171686251, 2043.7468873251423, 2043.1588804041114, 2013.1256658680852, 1751.8712611193603, 1507.419457412414, 1318.2504896883484, 1266.9233678404285, 1216.9178310302784, 1157.8542638984734, 1147.8342277032907, 967.2707836123333, 958.9152029819438, 923.9743393943413, 906.2096180362713, 896.269691775834, 887.0525860213758, 864.6698702444806, 829.5293040401474, 811.7695037753389, 772.6511931556469, 6519.435958157626, 7955.904789312861, 2505.915226478147, 2256.8989123663837, 6208.103317725851, 2203.381599835306, 6779.253950424499, 10701.81405493482, 2002.2331195844852, 1581.4651327650863, 8430.415675569524, 6325.035598044378, 2165.991174292621, 7615.160249662226, 4800.779642689983, 8682.082054978762, 4333.018839222488, 4341.219646497662, 4861.783998233031, 4675.778782405093, 4267.274247938928, 2994.465836793413, 3441.802418118501, 4153.770546728211, 4959.222279437909, 13715.63792064844, 5682.926381251136, 3136.7470282456843, 4923.426081057407, 8939.635568501393, 9744.750181584406, 6172.162280835631, 4134.347585950641, 4052.605014895331, 2900.3179898405356, 2758.63083758936, 2176.744951795571, 1744.5385485919446, 1527.1218723128159, 1398.903617164666, 1339.5025402454646, 1318.066811408926, 1268.7904598353148, 1237.6787514658631, 1157.5243298960822, 1121.5186682422493, 1030.319421943958, 1009.7682130509156, 981.375960594716, 914.0699453847669, 880.4630057163945, 873.9691631921145, 854.4229996193525, 849.157834094682, 844.3062796498996, 836.3237336595248, 819.3158673477005, 745.6796750211147, 745.562188713917, 703.2091532695723, 700.9583824813075, 668.5640349460999, 597.7477364239162, 596.7513265139669, 818.675810814075, 1049.953264307261, 1392.4635718698462, 5364.15078060565, 1943.139535994835, 2555.1929068093896, 6469.976966419919, 2400.8798208318235, 3365.9559280710905, 2324.947502385968, 2171.13111290926, 1989.3712003554726, 2568.6937110245576, 1851.5886644516017, 6172.162280835631, 4285.353628650592, 4923.426081057407, 2383.0183164626433, 3215.555757086256, 2761.9918510787493, 1907.7493321228637, 1634.7009141305625, 1623.5843219798105, 1335.775392286798, 1008.2783554568427, 984.0875082168749, 968.7681518573945, 864.9569384770704, 844.5641765618931, 818.1590508738544, 719.7764811420602, 691.4045904741046, 631.8354527252867, 616.2208488961679, 587.2613593930344, 545.5673381663537, 521.7766187315364, 509.7004852408608, 501.2098320419934, 460.93666015508035, 460.2951730972078, 455.13876318167763, 421.9736133657168, 421.63422618452773, 416.58236043746496, 409.2797046621123, 398.53926989364345, 383.8730886182271, 379.1283390319826, 3160.863666895853, 911.2196246658405, 1650.4297418763924, 3273.0083729686285, 1542.5915380464228, 1301.6412346093794, 974.2318240703277, 1064.8192460856465, 971.9313448000613, 2159.196930022072, 2880.684690802222, 8939.635568501393, 3481.643035582506, 1258.6386473203936, 1298.4181899147668, 3762.221835728648, 8076.006924335025, 2084.4505110276277, 4019.988422222517, 7615.160249662226, 2217.306337173475, 1042.8501034800217, 955.4540747883422, 908.2070812171532, 771.6793793837168, 604.3142436901871, 601.8941443710266, 494.3532152048244, 489.16202029749127, 462.38098524666475, 455.0471422817339, 445.97397565805295, 399.13716627697573, 391.67219707761103, 380.09781224805727, 359.9908573447603, 356.53118282691696, 348.8433599453818, 347.32892991727425, 337.92685093688857, 336.8834250442545, 329.40473619497413, 327.42195413870854, 308.0111265320831, 300.4520839095931, 296.83491495162446, 286.9365858033253, 285.53795598539716, 276.23996391756583, 270.23361119658983, 2012.7014100009262, 636.0762322995848, 754.3984331886774, 1031.1725626935029, 2891.2783315167126, 779.697269518835, 913.0623837905553, 8076.006924335025, 2029.4956688984073, 1793.1063008961048, 781.7511571242968, 689.9841640317175, 666.5265760120146, 1685.9018678739765, 1613.976473703627, 1278.5187397520397, 2109.8200075314344, 973.411828029998, 1459.3727442401507, 2604.2975653973394, 1062.2176031127456, 8939.635568501393, 880.7419858323643, 1136.5163269067375, 2730.829108698666, 2136.058734938583, 4959.222279437909, 4019.988422222517, 3240.1224556424822, 3983.6553916114767, 6172.162280835631, 6543.618866059302, 5865.997409152376, 2987.8252458816955, 1807.728531773166, 956.8891387406358, 927.773850381285, 629.9334523433747, 562.7763776702326, 519.2449074775785, 491.22705865789067, 420.89297333432967, 404.7568678939791, 391.6549931045858, 390.803533971317, 360.617731150418, 354.2085917572532, 308.37051456226396, 284.02360128104436, 213.9514574623797, 176.6053973822045, 175.1662479478213, 174.09381914722002, 174.06586232496173, 172.76941835975578, 166.47934102537562, 142.67034508472048, 137.53369559033945, 136.72340718086866, 131.67617229138244, 124.55385378650669, 2338.1218751769875, 2787.4498867507127, 704.0602928032534, 1409.7572945939112, 9996.745251433462, 17046.228850800147, 979.2553558284028, 1464.4372449346836, 383.11147032169714, 1025.5725279429093, 371.41522356789824, 9744.750181584406, 13715.63792064844, 2550.0119077957866, 2876.263575306656, 1912.859462239633, 2730.829108698666, 1289.9381339372508, 4726.461526511927, 1156.075679003118, 5682.926381251136, 1288.551710723047, 1070.6011455533871, 4134.347585950641, 1324.0924986820023, 8682.082054978762, 3429.4769555505345, 2210.3870042973344, 1430.8709257626479, 1302.9867619199808, 1260.2316353340352, 1252.3298162167866, 1115.439790645763, 974.4374546721356, 909.7004885670315, 834.8936868381127, 712.7911431606841, 590.7282708537615, 492.0055681522778, 436.07094111870737, 419.1528953408874, 411.66573794534196, 402.43827293106773, 401.7791588261741, 387.96253239017676, 385.4157504535581, 364.6771013255681, 353.72870080134726, 351.50773394337654, 348.5207588943658, 345.86397007625817, 338.99804364390576, 337.12289313938464, 311.78528063115795, 291.96096025870537, 277.96015010392193, 577.5868632984223, 1729.7762317142717, 423.4512575282631, 609.0110069533941, 606.5344643740544, 1829.2662672231593, 914.6637163969368, 495.9247504683001, 2179.594763476869, 1298.7672600304256, 960.2800276872904, 632.408288279603, 887.5659035054197, 4068.0189003126184, 1187.124547731626, 926.5135929451778, 1553.108087952057, 2025.0438844103057, 43299.44215342835, 1074.9076273732046, 915.8167415678117, 499.1073622589599, 427.1006924903801, 398.12796786632197, 328.0011816856456, 251.6563511917481, 230.62369054259403, 199.56621767701577, 198.61948558925835, 177.31168937923158, 142.6538065274308, 116.48167624805299, 107.34907529352044, 87.20985968159434, 83.20597773433516, 82.92309047858114, 82.12316454133017, 73.37780514540465, 67.60774973110104, 64.6109959766093, 24.726837319926133, 20.732299158829594, 18.169464070080387, 12.87438057223179, 4.786352989229522, 1.2191975375664592, 1.219159178823567, 1.2191561154496733, 2243.208234309624, 945.2189512405632, 773.1449450717946, 742.8519771935775, 605.2791964383512, 565.6840447197354, 527.9486229977385, 418.80286223630117, 402.72161505320685, 384.9481182354498, 383.7942303502489, 378.66791735315553, 376.65506628594824, 347.85385481843065, 346.8068115851191, 324.79106018139043, 321.7281241641416, 321.15721917732725, 302.8788209440876, 295.1228781906486, 268.32096355285967, 257.3733432011189, 246.7225935095828, 244.72065724151267, 241.57735838396533, 239.66954041862584, 218.23124738549078, 214.67897702350544, 207.11348504282392, 203.35483898715682, 199.81030743839406, 608.6145692769094, 929.3934447892385, 689.6212342713902, 688.7627739646355, 724.9562148519803, 2119.0489856078807, 372.32727287370244, 2896.4960847572775, 647.2346837379471, 1037.5869869510325, 446.7868042058502, 510.5638928318706, 483.74319524017864, 1449.8679851164254, 1178.9188657478994, 1206.0581310747648, 566.0670344101809, 4779.173867537974, 4052.605014895331, 1448.7862450799103, 2226.322932063078, 2129.439331310144, 1528.4827468610565, 1490.6945309440434, 1043.0714334387917, 728.0102013607416, 565.3642356497679, 515.3308797005084, 405.579656847014, 376.08267392738276, 320.98049027835174, 278.5227552559745, 275.3004073908804, 268.27172048405237, 213.6691458713421, 209.91178118957262, 206.32394051088966, 202.430064565822, 200.36401089213734, 186.83956020473772, 184.53295187924851, 181.29601928863102, 179.68602125267714, 173.36098611673773, 154.2413241067951, 141.42591732937285, 137.28283913507883, 129.07819663217109, 126.49913948083332, 115.73117182755682, 616.5134142853993, 630.2031936345539, 373.44397135860174, 590.179481739253, 4779.173867537974, 684.1524577002234, 1313.5345418411914, 3365.9559280710905, 712.7768806945759, 500.0523174591266, 2270.6778794033044, 3983.6553916114767, 313.9941714062231, 1746.390531120625, 2462.579276921382, 1030.5058957132662, 732.3045524723389, 656.7788426265818, 578.0480622972412, 542.0914306621812, 471.57448620914266, 417.31241946482527, 399.246358139489, 376.35566692096995, 355.65851686854063, 343.58216943788466, 289.37916951132166, 264.2419142671329, 225.89520499898316, 197.5071162024398, 187.32176370445103, 181.88935655904106, 171.29890349091372, 170.88471295697295, 163.71950078047058, 162.05187880441972, 161.77679522874527, 139.63131466909272, 139.393542186747, 130.1094231191092, 129.35035476188887, 121.62564470361467, 121.40360804017932, 115.6465979639678, 369.2199967236983, 1559.8390592219628, 1558.5447162239188, 579.9530647395324, 673.7869608000135, 2119.0489856078807, 1288.551710723047, 299.61343690018646, 5364.15078060565, 1025.5725279429093, 2400.8798208318235, 1918.6008400380936, 2324.947502385968, 1825.0083306382403, 1392.432365692656, 492.27325125758955, 471.1796720849325, 375.7335479653189, 310.46337984809577, 215.98175880222846, 198.51544191229556, 190.73890699039603, 151.375708077789, 143.14717670206682, 140.04608351467178, 138.74714156260555, 136.26336093005133, 132.0196625135485, 125.41285162651322, 121.59565485865055, 110.09538671258748, 102.86693252891101, 100.52416764294522, 95.67284068445608, 85.62189641736245, 80.8930334729195, 79.24856797509034, 78.2015056384636, 77.64445410828127, 72.12865321997589, 72.06593468569397, 65.76526235055442, 64.9237990416221, 556.2890925910405, 329.31672984428224, 330.1988813506218, 312.3929137156021, 559.0679566761124, 137.5667879122613, 270.7876403832938, 528.4512066636075, 164.66535511685169, 289.26621696218115, 524.8244504200039, 1278.5187397520397, 1448.7862450799103, 822.9218737497972, 673.7869608000135, 4052.605014895331, 2896.4960847572775, 1685.9018678739765, 302.43668956319954, 944.5072732730619, 565.7463382580671, 419.43706826113214, 387.92266766829175, 370.377007032089, 354.0678650975881, 346.0009857924626, 297.7669335046861, 181.35690819453458, 178.97737046257302, 178.81796886339382, 171.5731745282857, 171.41943806281253, 169.1061400686217, 166.298564578964, 152.4270793819099, 150.34154060956513, 135.11434927548794, 132.33738605615008, 131.64221941753163, 130.41466616216067, 129.86110028223874, 114.9763858978099, 109.91439802607296, 98.37557076263012, 95.35441177891444, 89.82949273152289, 78.8848092897398, 68.3674878814477, 63.00279550606102, 1563.7674126224395, 846.8178600642558, 235.63580582010368, 302.43668956319954, 469.0284891600276, 1070.6011455533871, 673.7262242787982, 654.0300864132586, 424.11795348587924, 410.2673473749097, 335.64254117114734, 334.6490134694507, 331.96761810511987, 314.48942392158136, 289.94986071363775, 220.7058401798001, 199.94401729394875, 187.66262399240773, 175.83583724332368, 170.92846519945618, 141.09721530682265, 140.19041349026887, 138.85193658623925, 132.22583396062572, 123.28166077114659, 118.27918727277077, 114.45116776008858, 104.32597959800633, 97.00766266701676, 93.42971930672982, 92.03029700381074, 79.15441780405696, 75.65189316959318, 72.40879108021318, 71.68033946135554, 66.6627072995091, 1443.031059586249, 387.93126909183985, 204.26932904041874, 163.80887986009546, 345.03601514777137, 907.9278866908512, 140.4589458409646, 1449.8679851164254, 227.47010832328175, 596.6371189596683, 467.29135923706673, 410.5650360785965, 396.1262466223204, 202.06522698361283, 193.7819473612333, 176.56409345802214, 143.71213131870962, 143.59489001406382, 129.4347417828959, 120.44667593856681, 120.16179176665676, 115.47580449442384, 109.45807027850118, 106.36773965961883, 91.5317562094086, 85.42207577194421, 76.7733019171726, 62.620411591848175, 62.51225172120479, 61.34404723495786, 59.903322792053444, 59.89601542143367, 59.82591047490377, 59.82591047490377, 56.71172204427167, 54.91854625254858, 36.453368733357046, 34.4778656784137, 33.1914338748862, 172.80640474910456, 75.29299537957526, 112.05028548801354, 559.0679566761124, 587.3450367883431, 948.036553120188, 688.7627739646355, 377.54726437545844, 1226.7797298451903, 835.0243988279284, 418.96072100491676, 417.7865704006889, 376.8134209657617, 329.4406579009227, 276.1437291664472, 155.62049039648446, 143.0956362862389, 135.80098457439894, 127.52762745148064, 90.04231189258057, 86.43981630669106, 70.22230453962051, 69.16502232348861, 50.84197681135449, 45.633089336081184, 41.237186917646795, 37.23588625974957, 35.75082945693771, 28.51301960447212, 28.336867558116005, 20.834536525554142, 18.858617734419365, 12.416645477495136, 12.217959981760483, 11.933101870080337, 9.305340232354894, 9.233361662902174, 3.3383834729991353, 165.43734574013922, 381.71643898614417, 320.3694639241668, 411.0191191961318, 270.98985904906465, 251.86437217764998, 216.14506175435238, 166.12098745952014, 132.87971438302196, 115.29363561163032, 100.85774292745259, 76.22849174471033, 74.67348677915604, 73.85428102860318, 73.35730471459743, 73.14006166324778, 70.53758102070154, 68.63697463724651, 56.72640314025924, 51.93378763250775, 46.44885246852491, 42.42038426869989, 36.130344412771734, 36.0000876250669, 33.90440813386694, 31.396447846404083, 20.92355562350814, 19.85210647623337, 14.200501612208248, 12.97870284312683, 10.463605212836638, 6.766773914126505, 5.592837195090103, 4.561808347039388, 323.6073629363677, 435.28023954223784, 227.11313570815275, 183.1970062110849, 144.14644412964222, 101.9893530023682, 82.43829054570043, 70.87988131747166, 60.669057774134345, 37.969701027899106, 32.97819615862171, 29.733189972738863, 28.823385828316944, 24.632281666106568, 24.34229596531735, 20.29537272516343, 17.031006735000496, 15.47131105924444, 12.450190909125961, 11.59632031945831, 10.919809306976035, 10.917623167270978, 10.917623167270978, 9.449697165020321, 9.214967443577393, 6.796797262076767, 6.522824169974726, 1.2191586532793341, 1.2191588518271297, 1.21916730990794, 1.2191695148987822, 176.90080020228174, 165.9308671199351, 123.12423038497082, 102.57941293566107, 101.69885825790892, 54.297127823885354, 39.421642756335764, 24.327145641915028, 16.343099431795775, 14.773223664936806, 11.382109352679345, 5.1225989595436126, 3.945976079123297, 483.74319524017864, 1.219238461121105, 1.2193004023719598, 1.2191551343195728, 1.2191473341869874, 1.2191502583457705, 1.2191539337902486, 1.219169071898598, 1.2191531856122986, 1.2192065601146853, 1.2191711613577212, 1.2191605671591452, 1.219138738127283, 1.2191937200681064, 1.2191464915062753, 1.2191484781010367, 1.2191460369301963, 1.2191590339208656, 1.2191684945592942, 1.2192142039998635, 1.219199362501921, 1.2191834589682633, 77.64238585330325, 60.21966663599696, 38.163469137817124, 248.13407908593084, 17.635169481342572, 16.71993454021844, 15.86451536538154, 8.85525935885184, 8.627177767373006, 6.53064368210662, 1.2194060616085034, 1.219209600435874, 1.219175857054589, 1.2191430352881691, 1.2191418789725479, 1.2191457242417423, 1.2191456109497631, 1.2191389999473736, 1.2192068229893807, 1.219168119917095, 1.2191379076067, 1.2191379076067, 1.2191373578745925, 1.2191373578745925, 1.2191407640872693, 1.219142335716648, 1.219136808492166, 1.219138388511825, 1.2191445881588996, 1.219138892083292, 1.219163526676619, 1.2191522246129243, 1.2191457335075244, 1.219177876495765, 136.706815788523, 115.16886836270378, 59.576048266525994, 29.361612760004242, 23.82945674990771, 18.347217927170846, 16.625327587550075, 15.04676557464989, 6.954352875109555, 4.827499822904651, 1.2192487765517892, 1.2191990334347664, 1.2191371051473958, 1.2191616493203352, 1.2191686262336812, 1.2191359602460587, 1.2191632056086181, 1.2191381460304325, 1.219166660669794, 1.2191479076407146, 1.2191610597859177, 1.2191539527089723, 1.2191512148117634, 1.2191430115531865, 1.2191339355754574, 1.2191366646335453, 1.219134716859239, 1.2191587213828856, 1.219136950620773, 1.2191415631780473, 1.219147674355159, 1.2191765355019957, 1.2191549469549332, 1.219152269530126, 1.2191462468403174, 1.2191809092044192, 1.2194060616085034, 1.2191825840051798], \"Category\": [\"Default\", \"Default\", \"Default\", \"Default\", \"Default\", \"Default\", \"Default\", \"Default\", \"Default\", \"Default\", \"Default\", \"Default\", \"Default\", \"Default\", \"Default\", \"Default\", \"Default\", \"Default\", \"Default\", \"Default\", \"Default\", \"Default\", \"Default\", \"Default\", \"Default\", \"Default\", \"Default\", \"Default\", \"Default\", \"Default\", \"Topic1\", \"Topic1\", \"Topic1\", \"Topic1\", \"Topic1\", \"Topic1\", \"Topic1\", \"Topic1\", \"Topic1\", \"Topic1\", \"Topic1\", \"Topic1\", \"Topic1\", \"Topic1\", \"Topic1\", \"Topic1\", \"Topic1\", \"Topic1\", \"Topic1\", \"Topic1\", \"Topic1\", \"Topic1\", \"Topic1\", \"Topic1\", \"Topic1\", \"Topic1\", \"Topic1\", \"Topic1\", \"Topic1\", \"Topic1\", \"Topic1\", \"Topic1\", \"Topic1\", \"Topic1\", \"Topic1\", \"Topic1\", \"Topic1\", \"Topic1\", \"Topic1\", \"Topic1\", \"Topic1\", \"Topic1\", \"Topic1\", \"Topic1\", \"Topic1\", \"Topic1\", \"Topic1\", \"Topic1\", \"Topic1\", \"Topic1\", \"Topic1\", \"Topic1\", \"Topic1\", \"Topic1\", \"Topic1\", \"Topic1\", \"Topic1\", \"Topic1\", \"Topic1\", \"Topic1\", \"Topic1\", \"Topic1\", \"Topic1\", \"Topic1\", \"Topic2\", \"Topic2\", \"Topic2\", \"Topic2\", \"Topic2\", \"Topic2\", \"Topic2\", \"Topic2\", \"Topic2\", \"Topic2\", \"Topic2\", \"Topic2\", \"Topic2\", \"Topic2\", \"Topic2\", \"Topic2\", \"Topic2\", \"Topic2\", \"Topic2\", \"Topic2\", \"Topic2\", \"Topic2\", \"Topic2\", \"Topic2\", \"Topic2\", \"Topic2\", \"Topic2\", \"Topic2\", \"Topic2\", \"Topic2\", \"Topic2\", \"Topic2\", \"Topic2\", \"Topic2\", \"Topic2\", \"Topic2\", \"Topic2\", \"Topic2\", \"Topic2\", \"Topic2\", \"Topic2\", \"Topic2\", \"Topic2\", \"Topic2\", \"Topic2\", \"Topic2\", \"Topic2\", \"Topic2\", \"Topic2\", \"Topic3\", \"Topic3\", \"Topic3\", \"Topic3\", \"Topic3\", \"Topic3\", \"Topic3\", \"Topic3\", \"Topic3\", \"Topic3\", \"Topic3\", \"Topic3\", \"Topic3\", \"Topic3\", \"Topic3\", \"Topic3\", \"Topic3\", \"Topic3\", \"Topic3\", \"Topic3\", \"Topic3\", \"Topic3\", \"Topic3\", \"Topic3\", \"Topic3\", \"Topic3\", \"Topic3\", \"Topic3\", \"Topic3\", \"Topic3\", \"Topic3\", \"Topic3\", \"Topic3\", \"Topic3\", \"Topic3\", \"Topic3\", \"Topic3\", \"Topic3\", \"Topic3\", \"Topic3\", \"Topic3\", \"Topic3\", \"Topic3\", \"Topic3\", \"Topic3\", \"Topic3\", \"Topic3\", \"Topic3\", \"Topic3\", \"Topic3\", \"Topic4\", \"Topic4\", \"Topic4\", \"Topic4\", \"Topic4\", \"Topic4\", \"Topic4\", \"Topic4\", \"Topic4\", \"Topic4\", \"Topic4\", \"Topic4\", \"Topic4\", \"Topic4\", \"Topic4\", \"Topic4\", \"Topic4\", \"Topic4\", \"Topic4\", \"Topic4\", \"Topic4\", \"Topic4\", \"Topic4\", \"Topic4\", \"Topic4\", \"Topic4\", \"Topic4\", \"Topic4\", \"Topic4\", \"Topic4\", \"Topic4\", \"Topic4\", \"Topic4\", \"Topic4\", \"Topic4\", \"Topic4\", \"Topic4\", \"Topic4\", \"Topic4\", \"Topic4\", \"Topic4\", \"Topic4\", \"Topic4\", \"Topic4\", \"Topic4\", \"Topic4\", \"Topic4\", \"Topic4\", \"Topic4\", \"Topic4\", \"Topic4\", \"Topic4\", \"Topic4\", \"Topic4\", \"Topic4\", \"Topic4\", \"Topic4\", \"Topic4\", \"Topic4\", \"Topic4\", \"Topic4\", \"Topic5\", \"Topic5\", \"Topic5\", \"Topic5\", \"Topic5\", \"Topic5\", \"Topic5\", \"Topic5\", \"Topic5\", \"Topic5\", \"Topic5\", \"Topic5\", \"Topic5\", \"Topic5\", \"Topic5\", \"Topic5\", \"Topic5\", \"Topic5\", \"Topic5\", \"Topic5\", \"Topic5\", \"Topic5\", \"Topic5\", \"Topic5\", \"Topic5\", \"Topic5\", \"Topic5\", \"Topic5\", \"Topic5\", \"Topic5\", \"Topic5\", \"Topic5\", \"Topic5\", \"Topic5\", \"Topic5\", \"Topic5\", \"Topic5\", \"Topic5\", \"Topic5\", \"Topic5\", \"Topic5\", \"Topic5\", \"Topic5\", \"Topic5\", \"Topic5\", \"Topic5\", \"Topic5\", \"Topic5\", \"Topic5\", \"Topic5\", \"Topic5\", \"Topic5\", \"Topic5\", \"Topic5\", \"Topic5\", \"Topic5\", \"Topic6\", \"Topic6\", \"Topic6\", \"Topic6\", \"Topic6\", \"Topic6\", \"Topic6\", \"Topic6\", \"Topic6\", \"Topic6\", \"Topic6\", \"Topic6\", \"Topic6\", \"Topic6\", \"Topic6\", \"Topic6\", \"Topic6\", \"Topic6\", \"Topic6\", \"Topic6\", \"Topic6\", \"Topic6\", \"Topic6\", \"Topic6\", \"Topic6\", \"Topic6\", \"Topic6\", \"Topic6\", \"Topic6\", \"Topic6\", \"Topic6\", \"Topic6\", \"Topic6\", \"Topic6\", \"Topic6\", \"Topic6\", \"Topic6\", \"Topic6\", \"Topic6\", \"Topic6\", \"Topic6\", \"Topic6\", \"Topic6\", \"Topic6\", \"Topic6\", \"Topic6\", \"Topic6\", \"Topic6\", \"Topic7\", \"Topic7\", \"Topic7\", \"Topic7\", \"Topic7\", \"Topic7\", \"Topic7\", \"Topic7\", \"Topic7\", \"Topic7\", \"Topic7\", \"Topic7\", \"Topic7\", \"Topic7\", \"Topic7\", \"Topic7\", \"Topic7\", \"Topic7\", \"Topic7\", \"Topic7\", \"Topic7\", \"Topic7\", \"Topic7\", \"Topic7\", \"Topic7\", \"Topic7\", \"Topic7\", \"Topic7\", \"Topic7\", \"Topic7\", \"Topic7\", \"Topic8\", \"Topic8\", \"Topic8\", \"Topic8\", \"Topic8\", \"Topic8\", \"Topic8\", \"Topic8\", \"Topic8\", \"Topic8\", \"Topic8\", \"Topic8\", \"Topic8\", \"Topic8\", \"Topic8\", \"Topic8\", \"Topic8\", \"Topic8\", \"Topic8\", \"Topic8\", \"Topic8\", \"Topic8\", \"Topic8\", \"Topic8\", \"Topic8\", \"Topic8\", \"Topic8\", \"Topic8\", \"Topic8\", \"Topic8\", \"Topic8\", \"Topic8\", \"Topic8\", \"Topic8\", \"Topic8\", \"Topic8\", \"Topic8\", \"Topic8\", \"Topic8\", \"Topic8\", \"Topic8\", \"Topic8\", \"Topic8\", \"Topic8\", \"Topic8\", \"Topic8\", \"Topic8\", \"Topic8\", \"Topic8\", \"Topic8\", \"Topic9\", \"Topic9\", \"Topic9\", \"Topic9\", \"Topic9\", \"Topic9\", \"Topic9\", \"Topic9\", \"Topic9\", \"Topic9\", \"Topic9\", \"Topic9\", \"Topic9\", \"Topic9\", \"Topic9\", \"Topic9\", \"Topic9\", \"Topic9\", \"Topic9\", \"Topic9\", \"Topic9\", \"Topic9\", \"Topic9\", \"Topic9\", \"Topic9\", \"Topic9\", \"Topic9\", \"Topic9\", \"Topic9\", \"Topic9\", \"Topic9\", \"Topic9\", \"Topic9\", \"Topic9\", \"Topic9\", \"Topic9\", \"Topic9\", \"Topic9\", \"Topic9\", \"Topic9\", \"Topic9\", \"Topic9\", \"Topic9\", \"Topic9\", \"Topic10\", \"Topic10\", \"Topic10\", \"Topic10\", \"Topic10\", \"Topic10\", \"Topic10\", \"Topic10\", \"Topic10\", \"Topic10\", \"Topic10\", \"Topic10\", \"Topic10\", \"Topic10\", \"Topic10\", \"Topic10\", \"Topic10\", \"Topic10\", \"Topic10\", \"Topic10\", \"Topic10\", \"Topic10\", \"Topic10\", \"Topic10\", \"Topic10\", \"Topic10\", \"Topic10\", \"Topic10\", \"Topic10\", \"Topic10\", \"Topic10\", \"Topic10\", \"Topic10\", \"Topic10\", \"Topic10\", \"Topic10\", \"Topic10\", \"Topic10\", \"Topic10\", \"Topic10\", \"Topic10\", \"Topic10\", \"Topic10\", \"Topic11\", \"Topic11\", \"Topic11\", \"Topic11\", \"Topic11\", \"Topic11\", \"Topic11\", \"Topic11\", \"Topic11\", \"Topic11\", \"Topic11\", \"Topic11\", \"Topic11\", \"Topic11\", \"Topic11\", \"Topic11\", \"Topic11\", \"Topic11\", \"Topic11\", \"Topic11\", \"Topic11\", \"Topic11\", \"Topic11\", \"Topic11\", \"Topic11\", \"Topic11\", \"Topic11\", \"Topic11\", \"Topic11\", \"Topic11\", \"Topic11\", \"Topic11\", \"Topic11\", \"Topic11\", \"Topic11\", \"Topic11\", \"Topic11\", \"Topic11\", \"Topic11\", \"Topic11\", \"Topic11\", \"Topic11\", \"Topic11\", \"Topic11\", \"Topic11\", \"Topic11\", \"Topic11\", \"Topic11\", \"Topic11\", \"Topic12\", \"Topic12\", \"Topic12\", \"Topic12\", \"Topic12\", \"Topic12\", \"Topic12\", \"Topic12\", \"Topic12\", \"Topic12\", \"Topic12\", \"Topic12\", \"Topic12\", \"Topic12\", \"Topic12\", \"Topic12\", \"Topic12\", \"Topic12\", \"Topic12\", \"Topic12\", \"Topic12\", \"Topic12\", \"Topic12\", \"Topic12\", \"Topic12\", \"Topic12\", \"Topic12\", \"Topic12\", \"Topic12\", \"Topic12\", \"Topic12\", \"Topic12\", \"Topic12\", \"Topic12\", \"Topic12\", \"Topic12\", \"Topic13\", \"Topic13\", \"Topic13\", \"Topic13\", \"Topic13\", \"Topic13\", \"Topic13\", \"Topic13\", \"Topic13\", \"Topic13\", \"Topic13\", \"Topic13\", \"Topic13\", \"Topic13\", \"Topic13\", \"Topic13\", \"Topic13\", \"Topic13\", \"Topic13\", \"Topic13\", \"Topic13\", \"Topic13\", \"Topic13\", \"Topic13\", \"Topic13\", \"Topic13\", \"Topic13\", \"Topic13\", \"Topic13\", \"Topic13\", \"Topic13\", \"Topic13\", \"Topic13\", \"Topic13\", \"Topic13\", \"Topic13\", \"Topic13\", \"Topic13\", \"Topic13\", \"Topic14\", \"Topic14\", \"Topic14\", \"Topic14\", \"Topic14\", \"Topic14\", \"Topic14\", \"Topic14\", \"Topic14\", \"Topic14\", \"Topic14\", \"Topic14\", \"Topic14\", \"Topic14\", \"Topic14\", \"Topic14\", \"Topic14\", \"Topic14\", \"Topic14\", \"Topic14\", \"Topic14\", \"Topic14\", \"Topic14\", \"Topic14\", \"Topic14\", \"Topic14\", \"Topic14\", \"Topic14\", \"Topic14\", \"Topic14\", \"Topic14\", \"Topic14\", \"Topic14\", \"Topic14\", \"Topic14\", \"Topic14\", \"Topic14\", \"Topic14\", \"Topic14\", \"Topic15\", \"Topic15\", \"Topic15\", \"Topic15\", \"Topic15\", \"Topic15\", \"Topic15\", \"Topic15\", \"Topic15\", \"Topic15\", \"Topic15\", \"Topic15\", \"Topic15\", \"Topic15\", \"Topic15\", \"Topic15\", \"Topic15\", \"Topic15\", \"Topic15\", \"Topic15\", \"Topic15\", \"Topic15\", \"Topic15\", \"Topic15\", \"Topic15\", \"Topic15\", \"Topic15\", \"Topic15\", \"Topic15\", \"Topic15\", \"Topic15\", \"Topic15\", \"Topic15\", \"Topic16\", \"Topic16\", \"Topic16\", \"Topic16\", \"Topic16\", \"Topic16\", \"Topic16\", \"Topic16\", \"Topic16\", \"Topic16\", \"Topic16\", \"Topic16\", \"Topic16\", \"Topic16\", \"Topic16\", \"Topic16\", \"Topic16\", \"Topic16\", \"Topic16\", \"Topic16\", \"Topic16\", \"Topic16\", \"Topic16\", \"Topic16\", \"Topic16\", \"Topic16\", \"Topic16\", \"Topic16\", \"Topic16\", \"Topic16\", \"Topic16\", \"Topic17\", \"Topic17\", \"Topic17\", \"Topic17\", \"Topic17\", \"Topic17\", \"Topic17\", \"Topic17\", \"Topic17\", \"Topic17\", \"Topic17\", \"Topic17\", \"Topic17\", \"Topic17\", \"Topic17\", \"Topic17\", \"Topic17\", \"Topic17\", \"Topic17\", \"Topic17\", \"Topic17\", \"Topic17\", \"Topic17\", \"Topic17\", \"Topic17\", \"Topic17\", \"Topic17\", \"Topic17\", \"Topic17\", \"Topic17\", \"Topic18\", \"Topic18\", \"Topic18\", \"Topic18\", \"Topic18\", \"Topic18\", \"Topic18\", \"Topic18\", \"Topic18\", \"Topic18\", \"Topic18\", \"Topic18\", \"Topic18\", \"Topic18\", \"Topic18\", \"Topic18\", \"Topic18\", \"Topic18\", \"Topic18\", \"Topic18\", \"Topic18\", \"Topic18\", \"Topic18\", \"Topic18\", \"Topic18\", \"Topic18\", \"Topic18\", \"Topic18\", \"Topic18\", \"Topic18\", \"Topic18\", \"Topic18\", \"Topic18\", \"Topic18\", \"Topic18\", \"Topic19\", \"Topic19\", \"Topic19\", \"Topic19\", \"Topic19\", \"Topic19\", \"Topic19\", \"Topic19\", \"Topic19\", \"Topic19\", \"Topic19\", \"Topic19\", \"Topic19\", \"Topic19\", \"Topic19\", \"Topic19\", \"Topic19\", \"Topic19\", \"Topic19\", \"Topic19\", \"Topic19\", \"Topic19\", \"Topic19\", \"Topic19\", \"Topic19\", \"Topic19\", \"Topic19\", \"Topic19\", \"Topic19\", \"Topic19\", \"Topic19\", \"Topic19\", \"Topic19\", \"Topic19\", \"Topic20\", \"Topic20\", \"Topic20\", \"Topic20\", \"Topic20\", \"Topic20\", \"Topic20\", \"Topic20\", \"Topic20\", \"Topic20\", \"Topic20\", \"Topic20\", \"Topic20\", \"Topic20\", \"Topic20\", \"Topic20\", \"Topic20\", \"Topic20\", \"Topic20\", \"Topic20\", \"Topic20\", \"Topic20\", \"Topic20\", \"Topic20\", \"Topic20\", \"Topic20\", \"Topic20\", \"Topic20\", \"Topic20\", \"Topic20\", \"Topic20\", \"Topic20\", \"Topic20\", \"Topic20\", \"Topic20\", \"Topic20\", \"Topic20\", \"Topic20\"], \"logprob\": [30.0, 29.0, 28.0, 27.0, 26.0, 25.0, 24.0, 23.0, 22.0, 21.0, 20.0, 19.0, 18.0, 17.0, 16.0, 15.0, 14.0, 13.0, 12.0, 11.0, 10.0, 9.0, 8.0, 7.0, 6.0, 5.0, 4.0, 3.0, 2.0, 1.0, -4.7045, -4.8507, -5.0491, -5.1067, -5.175, -5.1765, -5.222, -5.3595, -5.4311, -5.457, -5.4833, -5.4836, -5.4984, -5.6375, -5.7879, -5.9221, -5.9618, -6.0021, -6.0519, -6.0606, -6.232, -6.2407, -6.2778, -6.2973, -6.3083, -6.3187, -6.3443, -6.3858, -6.4075, -6.4569, -4.3263, -4.1302, -5.2815, -5.3862, -4.3856, -5.4158, -4.308, -3.8647, -5.5241, -5.7536, -4.1488, -4.4395, -5.4631, -4.3015, -4.7402, -4.2122, -4.8562, -4.8565, -4.7641, -4.8036, -4.8952, -5.1867, -5.0832, -4.9502, -4.8307, -4.2072, -4.8089, -5.1829, -4.929, -4.6398, -4.7299, -4.9082, -5.0892, -5.0996, -4.0056, -4.0557, -4.2927, -4.5142, -4.6474, -4.7352, -4.7786, -4.7947, -4.8329, -4.8577, -4.9247, -4.9564, -5.0413, -5.0614, -5.09, -5.1611, -5.1986, -5.206, -5.2287, -5.2349, -5.2406, -5.2501, -5.2707, -5.365, -5.3652, -5.4238, -5.427, -5.4744, -5.5865, -5.5882, -5.2815, -5.0425, -4.8139, -3.6137, -4.5878, -4.407, -3.7199, -4.5171, -4.3192, -4.5993, -4.7092, -4.8379, -4.7531, -4.9339, -4.6229, -4.7996, -4.8034, -5.002, -5.0156, -3.6945, -4.0648, -4.2193, -4.2261, -4.4214, -4.703, -4.7273, -4.743, -4.8565, -4.8804, -4.9122, -5.0405, -5.0808, -5.171, -5.1961, -5.2443, -5.3181, -5.3628, -5.3863, -5.4031, -5.4871, -5.4885, -5.4998, -5.5756, -5.5764, -5.5885, -5.6063, -5.6329, -5.6705, -5.683, -3.5849, -4.8263, -4.3284, -3.7884, -4.4781, -4.6375, -4.8872, -4.8196, -4.9683, -4.4203, -4.4792, -3.9966, -4.5108, -4.9812, -5.0061, -4.7467, -4.6042, -4.9049, -4.8096, -4.7564, -3.9004, -4.6553, -4.7429, -4.7937, -4.9568, -5.2017, -5.2057, -5.403, -5.4136, -5.47, -5.486, -5.5062, -5.6175, -5.6364, -5.6665, -5.721, -5.7307, -5.7526, -5.757, -5.7845, -5.7876, -5.8101, -5.8162, -5.8775, -5.9025, -5.9146, -5.9487, -5.9536, -5.9868, -6.0089, -4.0031, -5.1559, -5.009, -4.7207, -3.754, -5.0104, -4.8655, -2.8573, -4.1337, -4.288, -5.0794, -5.2001, -5.2299, -4.4977, -4.5442, -4.7348, -4.3715, -4.9535, -4.7448, -4.4631, -5.0001, -3.9309, -5.129, -5.0239, -4.7024, -4.8205, -4.6795, -4.7349, -4.8434, -4.8747, -4.8933, -2.7925, -2.9018, -3.5766, -4.0793, -4.716, -4.747, -5.1347, -5.2477, -5.3284, -5.384, -5.5389, -5.5781, -5.6111, -5.6133, -5.6939, -5.7119, -5.851, -5.9335, -6.2182, -6.4111, -6.4194, -6.4256, -6.4257, -6.4333, -6.4706, -6.6261, -6.6631, -6.669, -6.707, -6.7631, -3.8373, -3.6916, -5.054, -4.4051, -2.5062, -2.002, -4.8012, -4.46, -5.7087, -4.8607, -5.7645, -2.9835, -2.8247, -4.2274, -4.2281, -4.621, -4.4348, -4.9265, -4.1752, -5.0115, -4.1564, -5.0143, -5.1101, -4.6675, -5.0514, -4.6992, -3.0322, -3.4716, -3.9068, -4.0005, -4.0339, -4.0402, -4.1561, -4.2913, -4.3602, -4.4461, -4.6045, -4.7926, -4.9759, -5.0969, -5.1365, -5.1546, -5.1773, -5.179, -5.2141, -5.2207, -5.2762, -5.3068, -5.3131, -5.3216, -5.3293, -5.3494, -5.355, -5.4334, -5.4994, -5.5487, -4.8313, -3.8164, -5.1523, -4.8282, -4.8328, -3.8884, -4.5105, -5.0305, -3.8596, -4.3339, -4.5716, -4.9155, -4.8162, -4.2331, -4.8957, -4.9863, -4.9513, -4.9784, -0.2531, -3.95, -4.1103, -4.7183, -4.8745, -4.9449, -5.1392, -5.4052, -5.4929, -5.6382, -5.643, -5.7572, -5.9761, -6.1805, -6.263, -6.4731, -6.5207, -6.5242, -6.534, -6.6482, -6.7314, -6.7775, -7.7659, -7.9509, -8.0907, -8.4616, -9.6198, -12.9261, -12.9263, -12.9263, -9.1648, -3.9294, -4.1306, -4.1707, -4.3758, -4.4436, -4.5128, -4.745, -4.7842, -4.8295, -4.8325, -4.846, -4.8513, -4.9311, -4.9342, -5.0, -5.0095, -5.0113, -5.0701, -5.0961, -5.1917, -5.2336, -5.276, -5.2842, -5.2972, -5.3052, -5.3993, -5.4158, -5.4519, -5.4703, -5.488, -4.4403, -4.0487, -4.3269, -4.3455, -4.329, -3.4031, -4.9626, -3.4432, -4.6181, -4.3328, -4.8833, -4.8329, -4.8729, -4.4519, -4.5982, -4.7133, -4.8867, -4.5223, -4.5633, -4.7397, -2.6276, -2.6721, -3.0039, -3.0289, -3.3864, -3.7464, -3.9997, -4.0926, -4.3327, -4.4084, -4.5674, -4.7098, -4.7215, -4.7475, -4.9762, -4.994, -5.0113, -5.0305, -5.0408, -5.1111, -5.1236, -5.1414, -5.1504, -5.1865, -5.3042, -5.3916, -5.4216, -5.4837, -5.5041, -5.5939, -4.0039, -4.2759, -4.6778, -4.4401, -3.2256, -4.5895, -4.4247, -4.0837, -4.6605, -4.7872, -4.4406, -4.4425, -4.9754, -4.8088, -2.3518, -3.2236, -3.5656, -3.6747, -3.8026, -3.867, -4.0066, -4.1292, -4.1736, -4.2328, -4.2896, -4.3242, -4.4965, -4.5878, -4.7453, -4.8804, -4.9336, -4.9632, -5.0236, -5.0261, -5.0692, -5.0795, -5.0812, -5.2296, -5.2313, -5.3008, -5.3067, -5.3689, -5.3707, -5.4198, -4.3433, -3.2998, -3.5957, -4.3016, -4.4241, -3.9066, -4.2347, -4.937, -4.4425, -4.8745, -4.7974, -4.8341, -4.8892, -2.3143, -2.585, -3.6263, -3.6702, -3.8972, -4.0886, -4.4531, -4.5379, -4.5781, -4.8109, -4.8672, -4.8893, -4.8987, -4.9169, -4.9488, -5.0006, -5.0318, -5.1322, -5.2008, -5.2241, -5.2742, -5.3866, -5.4442, -5.4651, -5.4786, -5.4858, -5.5607, -5.5616, -5.6546, -5.6677, -3.5297, -4.0721, -4.0831, -4.1792, -3.6668, -4.9637, -4.4592, -4.0897, -4.9668, -4.6063, -4.4297, -4.0692, -4.1435, -4.371, -4.5048, -4.1964, -4.5491, -4.7181, -4.8871, -2.6939, -3.2072, -3.5072, -3.5855, -3.632, -3.6771, -3.7003, -3.8509, -4.3493, -4.3626, -4.3635, -4.4051, -4.406, -4.4197, -4.4366, -4.5243, -4.5382, -4.6459, -4.6668, -4.6721, -4.6816, -4.6859, -4.8088, -4.8543, -4.9664, -4.998, -5.0584, -5.1902, -5.3356, -5.4188, -2.2363, -3.2698, -4.3982, -4.4549, -4.4344, -4.2397, -3.0086, -3.0384, -3.4725, -3.5058, -3.7072, -3.7101, -3.7182, -3.7725, -3.854, -4.1282, -4.2275, -4.2913, -4.3568, -4.3853, -4.5785, -4.585, -4.5947, -4.644, -4.7147, -4.7565, -4.7898, -4.8834, -4.957, -4.995, -5.0103, -5.1631, -5.209, -5.2535, -5.2638, -5.3376, -2.3613, -3.6909, -4.3208, -4.6303, -4.1733, -3.6446, -4.7919, -4.6004, -4.861, -2.7848, -3.0297, -3.1595, -3.1954, -3.8713, -3.9134, -4.0071, -4.2144, -4.2152, -4.32, -4.3926, -4.395, -4.4352, -4.4892, -4.5182, -4.6702, -4.7402, -4.8484, -5.0557, -5.0574, -5.0766, -5.1009, -5.101, -5.1022, -5.1022, -5.1567, -5.1895, -5.6102, -5.6678, -5.7072, -4.1013, -4.9706, -4.9694, -4.7158, -4.8166, -4.814, -5.0004, -5.045, -5.0235, -2.0885, -2.7796, -2.7824, -2.8859, -3.0207, -3.1979, -3.7746, -3.8592, -3.912, -3.9754, -4.3273, -4.3687, -4.5796, -4.5951, -4.909, -5.0198, -5.1239, -5.2291, -5.2712, -5.506, -5.5125, -5.8356, -5.9415, -6.3943, -6.4121, -6.4382, -6.718, -6.7269, -8.0395, -4.1743, -4.2334, -4.9516, -5.621, -2.754, -2.8276, -2.9813, -3.2462, -3.4712, -3.6145, -3.7498, -4.0336, -4.0545, -4.0657, -4.0726, -4.0756, -4.1125, -4.1402, -4.3345, -4.4247, -4.5391, -4.6323, -4.7978, -4.8015, -4.8636, -4.9433, -5.3688, -5.4246, -5.7851, -5.8836, -6.1233, -6.6311, -6.8669, -7.1329, -4.7681, -2.057, -2.7101, -2.9262, -3.1677, -3.5171, -3.7327, -3.8861, -4.0446, -4.5252, -4.671, -4.7786, -4.811, -4.9755, -4.9879, -5.18, -5.3673, -5.4709, -5.7084, -5.7872, -5.8544, -5.8546, -5.8546, -6.0181, -6.0469, -6.4051, -6.4551, -11.4564, -11.4564, -11.4564, -11.4564, -2.6632, -2.7277, -3.0286, -3.2131, -3.2218, -3.8597, -4.1883, -4.6905, -5.1137, -5.223, -5.5101, -6.4619, -6.817, -3.9625, -11.2473, -11.2473, -11.2474, -11.2475, -11.2475, -11.2475, -11.2475, -11.2475, -11.2474, -11.2475, -11.2475, -11.2475, -11.2474, -11.2475, -11.2475, -11.2475, -11.2475, -11.2475, -11.2475, -11.2475, -11.2475, -3.1356, -3.3942, -3.8621, -2.0006, -4.6724, -4.7297, -4.7863, -5.436, -5.4662, -5.7975, -11.1381, -11.1388, -11.1391, -11.1394, -11.1394, -11.1394, -11.1394, -11.1394, -11.1393, -11.1394, -11.1394, -11.1394, -11.1394, -11.1394, -11.1394, -11.1394, -11.1394, -11.1394, -11.1394, -11.1394, -11.1394, -11.1394, -11.1394, -11.1394, -2.3801, -2.5532, -3.2222, -3.9511, -4.1698, -4.4472, -4.553, -4.661, -5.5389, -6.0001, -11.1552, -11.1553, -11.1554, -11.1554, -11.1554, -11.1554, -11.1554, -11.1554, -11.1554, -11.1554, -11.1554, -11.1554, -11.1554, -11.1554, -11.1555, -11.1555, -11.1555, -11.1554, -11.1555, -11.1555, -11.1554, -11.1554, -11.1554, -11.1554, -11.1555, -11.1554, -11.1554, -11.1554], \"loglift\": [30.0, 29.0, 28.0, 27.0, 26.0, 25.0, 24.0, 23.0, 22.0, 21.0, 20.0, 19.0, 18.0, 17.0, 16.0, 15.0, 14.0, 13.0, 12.0, 11.0, 10.0, 9.0, 8.0, 7.0, 6.0, 5.0, 4.0, 3.0, 2.0, 1.0, 0.9611, 0.961, 0.961, 0.9609, 0.9609, 0.9609, 0.9609, 0.9608, 0.9608, 0.9608, 0.9608, 0.9608, 0.9608, 0.9607, 0.9606, 0.9605, 0.9604, 0.9604, 0.9603, 0.9603, 0.9601, 0.9601, 0.9601, 0.9601, 0.96, 0.96, 0.96, 0.9599, 0.9599, 0.9598, 0.9578, 0.9547, 0.9587, 0.9587, 0.9474, 0.953, 0.937, 0.9238, 0.9405, 0.9469, 0.8782, 0.8749, 0.9229, 0.8272, 0.8498, 0.7854, 0.8364, 0.8342, 0.8133, 0.8129, 0.8127, 0.8754, 0.8396, 0.7846, 0.7269, 0.3331, 0.6125, 0.8327, 0.6359, 0.3285, 0.1522, 0.4305, 0.6503, 0.6599, 2.0884, 2.0884, 2.0883, 2.0882, 2.0881, 2.088, 2.088, 2.0879, 2.0879, 2.0879, 2.0878, 2.0878, 2.0877, 2.0877, 2.0876, 2.0876, 2.0875, 2.0875, 2.0875, 2.0875, 2.0875, 2.0874, 2.0874, 2.0873, 2.0873, 2.0872, 2.0872, 2.0871, 2.0869, 2.0869, 2.0774, 2.0676, 2.0138, 1.8654, 1.9068, 1.8137, 1.5718, 1.7659, 1.6259, 1.7159, 1.6744, 1.6331, 1.4624, 1.6089, 0.7159, 0.9041, 0.7614, 1.2885, 0.9752, 2.4484, 2.4482, 2.4481, 2.4481, 2.4479, 2.4476, 2.4476, 2.4476, 2.4474, 2.4474, 2.4474, 2.4472, 2.4471, 2.4469, 2.4469, 2.4468, 2.4466, 2.4466, 2.4465, 2.4465, 2.4463, 2.4463, 2.4462, 2.446, 2.446, 2.446, 2.4459, 2.4459, 2.4458, 2.4457, 2.4231, 2.4255, 2.3294, 2.1848, 2.2472, 2.2577, 2.2978, 2.2764, 2.219, 1.9688, 1.6216, 0.9718, 1.4005, 1.9476, 1.8916, 1.0872, 0.4657, 1.5194, 0.958, 0.3723, 2.4622, 2.4616, 2.4615, 2.4614, 2.4612, 2.4608, 2.4608, 2.4604, 2.4603, 2.4602, 2.4602, 2.4601, 2.4598, 2.4597, 2.4597, 2.4595, 2.4595, 2.4594, 2.4594, 2.4593, 2.4593, 2.4592, 2.4592, 2.4589, 2.4589, 2.4588, 2.4587, 2.4587, 2.4585, 2.4584, 2.4563, 2.4554, 2.4317, 2.4075, 2.3431, 2.3973, 2.3843, 2.2127, 2.3174, 2.2869, 2.3256, 2.3298, 2.3346, 2.1388, 2.1359, 2.1783, 2.0408, 2.2323, 2.0361, 1.7385, 2.0984, 1.0374, 2.1569, 2.007, 1.4519, 1.5793, 0.8781, 1.0327, 1.1398, 0.9019, 0.4455, 2.4879, 2.4879, 2.4877, 2.4874, 2.4869, 2.4868, 2.4862, 2.486, 2.4859, 2.4857, 2.4853, 2.4852, 2.4851, 2.4851, 2.4849, 2.4848, 2.4843, 2.484, 2.4827, 2.4815, 2.4815, 2.4814, 2.4814, 2.4814, 2.4811, 2.48, 2.4797, 2.4796, 2.4793, 2.4788, 2.4722, 2.4421, 2.4558, 2.4104, 2.3504, 2.3209, 2.3786, 2.3174, 2.4096, 2.2729, 2.3848, 1.8986, 1.7156, 1.9953, 1.8742, 1.8892, 1.7194, 1.9777, 1.4305, 2.0023, 1.2649, 1.891, 1.9806, 1.072, 1.8267, 0.2984, 2.8942, 2.894, 2.8938, 2.8937, 2.8937, 2.8937, 2.8935, 2.8934, 2.8933, 2.8932, 2.893, 2.8926, 2.8922, 2.8919, 2.8918, 2.8918, 2.8917, 2.8917, 2.8916, 2.8916, 2.8914, 2.8913, 2.8913, 2.8913, 2.8912, 2.8912, 2.8912, 2.8909, 2.8906, 2.8904, 2.8764, 2.7944, 2.8659, 2.8266, 2.8261, 2.6666, 2.7375, 2.8296, 2.5201, 2.5635, 2.6278, 2.7016, 2.4619, 1.5226, 2.0916, 2.2488, 1.7673, 1.4749, 3.1376, 3.1367, 3.1365, 3.1355, 3.1351, 3.1349, 3.1344, 3.1333, 3.133, 3.1322, 3.1322, 3.1315, 3.13, 3.1283, 3.1275, 3.1252, 3.1246, 3.1245, 3.1244, 3.1228, 3.1215, 3.1208, 3.0929, 3.084, 3.0762, 3.0498, 2.881, 0.9423, 0.9421, 0.9421, -2.8139, 3.2858, 3.2855, 3.2854, 3.2851, 3.2849, 3.2848, 3.2842, 3.2841, 3.284, 3.284, 3.2839, 3.2839, 3.2837, 3.2837, 3.2834, 3.2834, 3.2834, 3.2832, 3.2831, 3.2827, 3.2825, 3.2823, 3.2823, 3.2822, 3.2822, 3.2817, 3.2816, 3.2814, 3.2813, 3.2812, 3.2151, 3.1834, 3.2035, 3.1862, 3.1515, 3.0048, 3.1842, 2.6522, 2.9758, 2.7891, 3.0812, 2.9982, 3.0121, 2.3355, 2.396, 2.2582, 2.8412, 1.0722, 1.1962, 2.0484, 3.7309, 3.7309, 3.7307, 3.7307, 3.7303, 3.7298, 3.7294, 3.7292, 3.7286, 3.7284, 3.7278, 3.7273, 3.7272, 3.7271, 3.726, 3.7259, 3.7258, 3.7257, 3.7257, 3.7252, 3.7252, 3.725, 3.725, 3.7248, 3.7239, 3.7232, 3.723, 3.7225, 3.7223, 3.7214, 3.6386, 3.3447, 3.466, 3.2461, 2.369, 2.9489, 2.4614, 1.8615, 2.8369, 3.0647, 1.8982, 1.3342, 3.3418, 1.7925, 3.9059, 3.9052, 3.9048, 3.9046, 3.9043, 3.9042, 3.9039, 3.9036, 3.9034, 3.9033, 3.9031, 3.903, 3.9023, 3.9019, 3.9012, 3.9005, 3.9001, 3.8999, 3.8996, 3.8995, 3.8992, 3.8992, 3.8992, 3.898, 3.898, 3.8974, 3.8973, 3.8968, 3.8968, 3.8963, 3.8119, 3.4145, 3.1194, 3.402, 3.1296, 2.5013, 2.6706, 3.4271, 1.0366, 2.259, 1.4856, 1.6731, 1.4259, 4.243, 4.2428, 4.2413, 4.2412, 4.2405, 4.2399, 4.2383, 4.2378, 4.2375, 4.236, 4.2355, 4.2353, 4.2353, 4.2351, 4.2348, 4.2344, 4.2341, 4.2331, 4.2323, 4.2321, 4.2315, 4.23, 4.2292, 4.2289, 4.2287, 4.2286, 4.2275, 4.2275, 4.2259, 4.2257, 4.2156, 4.1975, 4.1838, 4.1431, 4.0736, 4.1787, 4.0061, 3.7069, 3.9959, 3.793, 3.3739, 2.8439, 2.6446, 2.9827, 3.0488, 1.5631, 1.5462, 1.9185, 3.4677, 4.522, 4.5212, 4.5205, 4.5203, 4.5201, 4.52, 4.5199, 4.5193, 4.5168, 4.5167, 4.5167, 4.5165, 4.5165, 4.5164, 4.5162, 4.5156, 4.5155, 4.5146, 4.5144, 4.5144, 4.5143, 4.5143, 4.5131, 4.5126, 4.5114, 4.511, 4.5102, 4.5084, 4.5061, 4.5046, 4.4754, 4.0553, 4.2061, 3.8998, 3.4815, 2.8509, 4.5451, 4.5451, 4.5441, 4.544, 4.5434, 4.5434, 4.5434, 4.5432, 4.5429, 4.5416, 4.541, 4.5407, 4.5402, 4.5401, 4.5386, 4.5386, 4.5385, 4.5381, 4.5374, 4.537, 4.5367, 4.5357, 4.5349, 4.5344, 4.5342, 4.5321, 4.5314, 4.5307, 4.5306, 4.5293, 4.4308, 4.4148, 4.4264, 4.3376, 4.0497, 3.6108, 4.3298, 2.1869, 3.7786, 4.8905, 4.8899, 4.8896, 4.8895, 4.8867, 4.8864, 4.8859, 4.8844, 4.8844, 4.8835, 4.8828, 4.8828, 4.8824, 4.8818, 4.8815, 4.8797, 4.8788, 4.8773, 4.8739, 4.8738, 4.8735, 4.873, 4.873, 4.873, 4.873, 4.8719, 4.8712, 4.8603, 4.8585, 4.8571, 4.8131, 4.7746, 4.3782, 3.0245, 2.8744, 2.3982, 2.5313, 3.0879, 1.9309, 5.2507, 5.2493, 5.2493, 5.249, 5.2485, 5.2478, 5.2445, 5.2439, 5.2434, 5.2429, 5.239, 5.2385, 5.2353, 5.235, 5.2288, 5.2261, 5.2233, 5.2202, 5.2189, 5.2102, 5.21, 5.1944, 5.1881, 5.1533, 5.1516, 5.1491, 5.118, 5.1168, 4.8216, 4.7837, 3.8885, 3.3455, 2.427, 5.7105, 5.7102, 5.7094, 5.7077, 5.7059, 5.7046, 5.7031, 5.6993, 5.6989, 5.6988, 5.6986, 5.6986, 5.698, 5.6975, 5.6939, 5.6919, 5.6891, 5.6867, 5.6817, 5.6816, 5.6795, 5.6766, 5.6569, 5.6536, 5.6282, 5.6197, 5.5954, 5.5235, 5.4782, 5.416, 3.519, 5.9336, 5.9311, 5.9298, 5.9281, 5.9246, 5.9218, 5.9195, 5.9166, 5.9046, 5.8998, 5.8957, 5.8944, 5.8871, 5.8865, 5.8762, 5.8643, 5.8567, 5.8364, 5.8287, 5.8216, 5.8216, 5.8216, 5.8025, 5.7989, 5.745, 5.7361, 2.412, 2.412, 2.412, 2.412, 6.2278, 6.2273, 6.2248, 6.2229, 6.2228, 6.2124, 6.2039, 6.1845, 6.1591, 6.1508, 6.1244, 5.9711, 5.8769, 3.9226, 2.6211, 2.621, 2.621, 2.621, 2.621, 2.621, 2.621, 2.621, 2.621, 2.621, 2.621, 2.621, 2.621, 2.621, 2.621, 2.621, 2.621, 2.6209, 2.6209, 2.6209, 2.6209, 6.5789, 6.5744, 6.5626, 6.552, 6.5243, 6.5203, 6.5162, 6.4496, 6.4455, 6.3926, 2.7302, 2.7296, 2.7293, 2.7291, 2.7291, 2.7291, 2.7291, 2.7291, 2.7291, 2.7291, 2.729, 2.729, 2.729, 2.729, 2.729, 2.729, 2.729, 2.729, 2.729, 2.729, 2.729, 2.729, 2.729, 2.729, 6.7687, 6.767, 6.7571, 6.7358, 6.7259, 6.7099, 6.7027, 6.6945, 6.5884, 6.4922, 2.7132, 2.7131, 2.7131, 2.713, 2.713, 2.713, 2.713, 2.713, 2.713, 2.713, 2.713, 2.713, 2.713, 2.713, 2.713, 2.713, 2.713, 2.713, 2.713, 2.713, 2.713, 2.713, 2.713, 2.713, 2.713, 2.713, 2.7128, 2.713]}, \"token.table\": {\"Topic\": [18, 20, 13, 3, 4, 4, 1, 3, 7, 19, 2, 5, 13, 4, 9, 1, 3, 8, 6, 13, 14, 1, 2, 3, 4, 11, 11, 4, 15, 11, 1, 2, 4, 2, 7, 5, 5, 10, 8, 11, 1, 2, 8, 3, 8, 14, 1, 5, 15, 15, 12, 13, 3, 12, 14, 8, 10, 3, 5, 2, 9, 7, 11, 17, 1, 1, 9, 10, 16, 5, 6, 4, 20, 1, 3, 4, 16, 1, 4, 8, 3, 1, 3, 1, 17, 1, 2, 10, 11, 1, 10, 4, 8, 2, 4, 5, 13, 5, 1, 4, 9, 8, 10, 5, 6, 6, 1, 2, 4, 5, 17, 9, 17, 6, 5, 1, 1, 4, 6, 8, 11, 11, 19, 18, 2, 6, 13, 4, 13, 14, 2, 10, 3, 3, 5, 8, 10, 4, 8, 11, 8, 3, 3, 17, 10, 18, 1, 8, 9, 14, 4, 18, 2, 5, 2, 5, 1, 3, 4, 3, 11, 14, 5, 8, 11, 13, 2, 5, 4, 3, 16, 14, 8, 8, 5, 4, 1, 2, 6, 8, 17, 6, 18, 2, 17, 17, 13, 6, 8, 1, 10, 11, 2, 17, 20, 16, 11, 14, 10, 14, 9, 18, 10, 17, 13, 6, 1, 5, 10, 2, 10, 9, 1, 4, 4, 4, 11, 9, 8, 9, 3, 10, 14, 3, 5, 9, 4, 14, 8, 15, 15, 2, 9, 16, 3, 13, 7, 7, 11, 4, 3, 1, 2, 5, 5, 6, 9, 1, 2, 16, 4, 13, 6, 2, 5, 13, 7, 8, 3, 12, 6, 1, 2, 5, 10, 1, 2, 6, 7, 9, 6, 1, 18, 2, 4, 6, 15, 14, 15, 8, 7, 1, 3, 4, 3, 12, 1, 2, 3, 2, 3, 11, 6, 1, 1, 3, 18, 14, 4, 9, 1, 3, 4, 8, 3, 15, 9, 2, 14, 15, 4, 10, 12, 2, 13, 1, 4, 9, 10, 13, 13, 1, 2, 4, 8, 9, 16, 16, 1, 2, 3, 4, 11, 3, 4, 6, 8, 15, 12, 12, 6, 14, 15, 16, 2, 9, 16, 7, 14, 1, 2, 5, 10, 1, 3, 4, 1, 9, 9, 10, 11, 3, 19, 1, 9, 8, 10, 17, 1, 4, 9, 5, 4, 8, 20, 6, 8, 2, 4, 5, 4, 1, 5, 11, 11, 11, 1, 2, 17, 15, 10, 1, 4, 9, 1, 2, 4, 5, 7, 4, 1, 2, 6, 1, 9, 9, 10, 11, 5, 6, 1, 2, 3, 4, 7, 20, 1, 15, 13, 8, 17, 10, 16, 2, 3, 4, 6, 8, 1, 6, 8, 1, 4, 6, 10, 19, 2, 5, 2, 4, 5, 10, 8, 15, 2, 13, 2, 5, 6, 15, 12, 15, 1, 2, 5, 6, 5, 8, 4, 8, 13, 14, 7, 8, 2, 3, 4, 10, 16, 16, 3, 8, 3, 6, 9, 17, 4, 7, 10, 5, 13, 4, 8, 11, 13, 14, 1, 3, 4, 5, 3, 13, 14, 5, 8, 8, 15, 1, 4, 9, 12, 11, 13, 1, 3, 4, 6, 9, 9, 1, 3, 6, 1, 4, 2, 10, 11, 4, 3, 4, 1, 5, 10, 1, 1, 4, 8, 12, 1, 4, 14, 1, 2, 5, 1, 9, 1, 6, 12, 1, 5, 2, 14, 2, 5, 1, 3, 18, 4, 5, 1, 2, 3, 4, 12, 6, 14, 11, 10, 15, 1, 2, 15, 1, 3, 4, 6, 11, 16, 14, 4, 8, 2, 11, 2, 4, 5, 16, 14, 6, 8, 9, 3, 5, 8, 12, 2, 2, 6, 2, 19, 12, 3, 14, 20, 16, 17, 14, 1, 11, 14, 14, 16, 1, 2, 4, 5, 8, 3, 14, 1, 2, 5, 10, 1, 2, 4, 5, 9, 2, 1, 2, 4, 5, 6, 10, 1, 2, 9, 16, 15, 5, 2, 2, 16, 10, 1, 2, 5, 8, 11, 12, 12, 8, 9, 2, 4, 6, 1, 4, 6, 7, 12, 12, 1, 2, 4, 1, 5, 12, 6, 12, 9, 2, 10, 11, 13, 5, 7, 4, 3, 1, 6, 2, 9, 9, 9, 1, 3, 4, 8, 8, 7, 3, 4, 11, 10, 16, 5, 10, 10, 1, 9, 6, 9, 8, 12, 9, 9, 17, 14, 1, 3, 9, 8, 10, 18, 8, 10, 8, 8, 14, 17, 1, 2, 4, 5, 1, 4, 1, 3, 6, 8, 9, 7, 15, 1, 10, 6, 4, 5, 10, 10, 18, 1, 12, 1, 2, 5, 12, 14, 6, 10, 2, 10, 11, 1, 2, 12, 3, 3, 11, 18, 16, 8, 10, 11, 3, 8, 2, 3, 8, 10, 9, 4, 8, 10, 6, 5, 1, 15, 16, 1, 2, 3, 7, 4, 7, 18, 12, 6, 13, 6, 4, 19, 1, 3, 1, 1, 3, 14, 16, 16, 3, 17, 8, 14, 12, 11, 14, 11, 3, 3, 14, 20, 5, 6, 3, 5, 14, 1, 2, 8, 13, 4, 5, 12, 3, 9, 11, 18, 11, 1, 3, 8, 10, 11, 4, 6, 1, 6, 14, 9, 8, 12, 19, 8, 7, 1, 2, 6, 9, 7, 7, 1, 9, 13, 6, 10, 6, 12, 1, 3, 4, 15, 13, 10, 12, 12, 13, 9, 17, 2, 15, 4, 15, 9, 7, 10, 1, 10, 10, 1, 3, 4, 1, 3, 6, 7, 3, 14, 5, 4, 2, 10, 1, 2, 3, 17, 13, 9, 11, 13, 14, 11, 12, 5, 15, 16, 16, 12, 14, 2, 12, 8, 14, 1, 1, 2, 3, 14, 2, 12, 19, 16, 5, 15, 2, 6, 12, 16, 20, 7, 1, 9, 1, 4, 9, 9, 1, 3, 8, 11, 3, 1, 8, 16, 10, 8, 13, 1, 6, 4, 12, 14, 19, 4, 1, 1, 2, 3, 8, 11, 1, 6, 13, 15, 2, 3, 6, 10, 16, 1, 4, 8, 13, 10, 2, 11, 9, 2, 5, 10, 12, 11, 1, 3, 4, 3, 14, 4, 2, 5, 3, 15, 1, 3, 1, 3, 13, 15, 1, 2, 4, 7, 1, 3, 4, 8, 10, 14, 4, 7, 1, 9, 11, 4, 8, 13, 11, 19, 1, 3, 8, 3, 1, 2, 3, 5, 14, 14, 14, 1, 15, 20, 13, 8, 5, 8, 12, 13, 11, 5, 1, 2, 3, 6, 10, 2, 10, 15, 16, 1, 2, 5, 2, 3, 8, 14, 11, 13, 17, 5, 14, 9, 11, 1, 5, 8, 10, 6, 1, 3, 14, 11, 17, 1, 3, 9, 1, 15, 17, 13, 17, 9, 2, 7, 20, 6, 8, 3, 13, 14, 4, 14, 1, 2, 3, 4, 1, 2, 5, 14, 17, 17, 1, 3, 5, 1, 6, 8, 9, 4, 9, 8], \"Freq\": [0.8785717734864323, 0.9022378609389203, 0.9952785919442596, 0.8601648799552114, 0.1385707145512572, 0.9976244674580733, 0.9857947340730759, 0.01391115083361621, 0.9954168308344085, 0.9569415455253909, 0.029826990975996365, 0.9686670402680725, 0.9854156238390298, 0.9362608137008046, 0.06156235487347756, 0.42667301205659075, 0.5730049114983817, 0.9950769275148365, 0.9983828191564722, 0.8119217963860784, 0.18314025482392746, 0.5881245234382504, 0.25339580018110847, 0.0252747729080901, 0.13301659331757676, 0.9919860333364838, 0.9887343951741024, 0.9946138299544464, 0.9831559033113625, 0.9788207138917102, 0.04725646296398034, 0.15717910507584765, 0.7941140406773218, 0.9987194049574756, 0.9863234137699977, 0.9985181730865345, 0.9947089734246333, 0.9935089996353006, 0.9980829590513921, 0.9852088966813113, 0.5115839644065644, 0.1301761465345715, 0.3573625423974542, 0.9992070839076184, 0.9982608324045457, 0.9972560893252453, 0.4452653910204724, 0.5546576258275302, 0.9668092696618447, 0.9642126062503962, 0.9954256897749538, 0.980543922095695, 0.9989212190695254, 0.9799979796856221, 0.9641041758130346, 0.9016633425793485, 0.09683735182833099, 0.997586176557901, 0.9888485830053768, 0.9991180770449661, 0.9971211810528878, 0.9999666934871069, 0.9954544364872617, 0.9159502802751204, 0.9997470674416311, 0.997386275329364, 0.002215429309927508, 0.9948227495504779, 0.9914955173241427, 0.9955139999764924, 0.996708600157179, 0.9972626551963181, 0.9265709966209255, 0.139786083305411, 0.20625299546533685, 0.6530202813238074, 0.6576339407040189, 0.2560680591273627, 0.6947728957205649, 0.0480127610863805, 0.9985833428443815, 0.02499316905925983, 0.9747335933111334, 0.9992252878612605, 0.9753410255202656, 0.22710190206795727, 0.688617699262878, 0.08387286155918877, 0.9980476910584875, 0.39485953937125606, 0.6034971125761556, 0.999119609255, 0.9961952180815911, 0.005962136231620406, 0.9936893719367343, 0.9948648849703334, 0.9950724089924704, 0.9937170707577214, 0.360751526655054, 0.6343947578494974, 0.004399408861647, 0.9968372449276619, 0.9914731531928046, 0.09480995113308384, 0.9047413019711963, 0.9975019945672061, 0.491648084851202, 0.1928939441506599, 0.2663479580832312, 0.04907221939192788, 0.9875863037420921, 0.9881490143965725, 0.990299448194899, 0.999372506129181, 0.9995969904992033, 0.9981564195108008, 0.12880931152916278, 0.4289593110357968, 0.13245485808187493, 0.024303643684747696, 0.2831374489273107, 0.9843522210717874, 0.8113893313376704, 0.9476604644677521, 0.9986327540903143, 0.9989295800744437, 0.9896125456555365, 0.09493905144306534, 0.8904867233893355, 0.013859715539133628, 0.5440973179483458, 0.4549115547469071, 0.9995712279081123, 0.997968497037109, 0.9955556238435784, 0.7501509710678316, 0.24874457787366738, 0.07830385335662257, 0.9193452412610872, 0.990050566646838, 0.9963967206457586, 0.9996072166766113, 0.9968732760321727, 0.9394629600561621, 0.9966612141767899, 0.9943900304018645, 0.868941647849464, 0.026084552280659333, 0.052169104561318666, 0.05135396230254806, 0.9957355312762028, 0.7808536314457792, 0.9994515931819471, 0.9991659062378542, 0.07377156365767046, 0.924981913553868, 0.7910514550367448, 0.0038312458949013896, 0.2050724776376165, 0.3076750577190143, 0.6360922541606588, 0.05185534680657544, 0.996587909538678, 0.9978866010167236, 0.9857710261066229, 0.9873206382382178, 0.45011147812809804, 0.5494392143003844, 0.9951670033680643, 0.998018812738396, 0.8866854539759683, 0.9872197946497518, 0.995944616427539, 0.997206401708551, 0.9955465592981645, 0.9975824107831267, 0.13826227125188442, 0.2544704378869039, 0.19594223717291598, 0.41054563979087155, 0.9934660165259159, 0.9975441126254367, 0.994907879437223, 0.9988782848853804, 0.9337340450944686, 0.7665391354584641, 0.9969109231260571, 0.9989381262032042, 0.9987104032997186, 0.9986651895850626, 0.09283181124396814, 0.9059104338635512, 0.9988294709938017, 0.9744611887466115, 0.8627689891139554, 0.9782019598850393, 0.9725159223959828, 0.02516677063501619, 0.9100265505160109, 0.08666919528723914, 0.9921494094650496, 0.9846030222784401, 0.9900028210425985, 0.8835205885828646, 0.9872900345329547, 0.9965457274952436, 0.9176928874041396, 0.08181759731223223, 0.9857618123407241, 0.9278519209411414, 0.07181516415953107, 0.9928513637877084, 0.5149181175828511, 0.48458364234866375, 0.9976988268149906, 0.7524332417580157, 0.2463788681432172, 0.9956563600937234, 0.31847724928188936, 0.6783565409704243, 0.9986256924190885, 0.09297013573056613, 0.8898570134211329, 0.9985115877108017, 0.9983276273349824, 0.9955065179782175, 0.8316839496093852, 0.16421784992287222, 0.3687196486808715, 0.6286367780788629, 0.9789982647020234, 0.9983383677600354, 0.9968683083904636, 0.9688075723828334, 0.6068763919216583, 0.3921016252706177, 0.999108182313403, 0.9972956354088053, 0.9952864655122553, 0.9991848267769405, 0.9961240665889098, 0.9988133893774023, 0.9984171994572814, 0.9975020540170503, 0.2538863681049223, 0.06505838182688635, 0.6791460346806673, 0.465217006944498, 0.5345129293178207, 0.9722198558102805, 0.9971509386420141, 0.9968018962288216, 0.9995693350415595, 0.15637406163499604, 0.8433273629660266, 0.9984250167772746, 0.9977813145172855, 0.9933375620963592, 0.3719808176649676, 0.6258724868648662, 0.99795618542275, 0.9992622008441744, 0.3992439532181876, 0.6000287762929655, 0.9982185656665188, 0.9450749901747115, 0.03254267654846884, 0.008915801794101053, 0.002674740538230316, 0.01025317206321621, 0.9987671643804876, 0.9995026682960689, 0.9639375059755144, 0.9986831120031671, 0.6715016093163715, 0.2676274529884089, 0.058391444288380126, 0.9959648080129174, 0.8664233344332674, 0.9970551842674995, 0.9872797482335531, 0.8380337721692089, 0.1242244833206871, 0.03755623914346354, 0.9996408928294405, 0.9916808166855806, 0.09375208702769353, 0.2995299729613598, 0.6062105288316115, 0.11209201779754126, 0.8876476003967456, 0.9923661257900276, 0.9957106663729356, 0.9990455850745741, 0.20371809290781864, 0.7942947864890706, 0.9931281602381749, 0.9861947696516841, 0.9464953154403295, 0.05236756868214938, 0.2917751462315945, 0.6187485640720798, 0.04492410981661058, 0.043997839511113454, 0.9994195189615893, 0.9978413163637407, 0.9975869792184502, 0.997660605619885, 0.9571358130982285, 0.5990923499879542, 0.9967359136141418, 0.9884384981399005, 0.9986807899448982, 0.9994088235485742, 0.9967240518367558, 0.35196317236223174, 0.13198618963583691, 0.5139462232789407, 0.9951104529926006, 0.9989220780598593, 0.9951062783477443, 0.6747571603859651, 0.018826929698269115, 0.20985750970337308, 0.005020514586205098, 0.09087131401031227, 0.993251981723301, 0.9887796442122099, 0.044481403801103214, 0.4490103968601928, 0.26227242807254253, 0.24380844913623553, 0.9922764344785092, 0.133964671635343, 0.22455948554701383, 0.03373211156285615, 0.6081417827474924, 0.9977068948071972, 0.9945391394451323, 0.9907659198966866, 0.9705957715158466, 0.025977015782662562, 0.9884241989052431, 0.9933796186490421, 0.99839394377658, 0.9993240796819234, 0.9947023459844123, 0.9874328186821199, 0.99504473761418, 0.9631077448264237, 0.011119610132370663, 0.025696578036991026, 0.9895604865995564, 0.861908512624061, 0.06608433946709766, 0.07170853857068044, 0.9934759413684054, 0.006410333123708082, 0.9115778942967756, 0.02108632139832399, 0.06650301364086797, 0.9987321403361242, 0.7656213144348318, 0.9759185964092293, 0.023896434797203017, 0.754111873228636, 0.24539310017452487, 0.9970588153884858, 0.9794064341553584, 0.007991077484184464, 0.011986616226276697, 0.9933420509859371, 0.1255248222385129, 0.8731561810656996, 0.9304325192376605, 0.9816705261647332, 0.015582071843884654, 0.10894834875159068, 0.8871508398343813, 0.003458677738145736, 0.995435019385163, 0.9986862173097099, 0.991113966356041, 0.9989713211729724, 0.996126081447907, 0.9868773694215848, 0.9992711730923375, 0.9985979271451868, 0.9448574626144617, 0.99585821061409, 0.995395076989958, 0.9994814941168225, 0.9972475485847927, 0.9952595805411105, 0.20443189040396262, 0.18252847357496663, 0.07162069629798691, 0.541327301630901, 0.991010649910428, 0.9967172402391191, 0.22068322426720888, 0.09130137552842946, 0.6877425221965616, 0.5408151294870064, 0.4575003662957649, 0.9916469499861112, 0.04251226473255675, 0.9534893661444872, 0.999829967679355, 0.998143285325273, 0.48070222569401133, 0.12377362697510472, 0.3948282751957798, 0.9986709185139412, 0.9969476278088378, 0.9948296960583415, 0.9992457740310196, 0.9987732109033386, 0.9945681066148183, 0.9970984404213268, 0.862342512496854, 0.9951983519784348, 0.9558604837472986, 0.7596295351428797, 0.025829752354162832, 0.13345372049650797, 0.055573103549865485, 0.02504703258585487, 0.23885550263108488, 0.6489658939410609, 0.11154101302111982, 0.006288554416722876, 0.9920194592380336, 0.37715264431763434, 0.6207999278148671, 0.9034179210124534, 0.48334991749976236, 0.5158249900817776, 0.7239012902352779, 0.06872480603499474, 0.11787345519941522, 0.08871747688153866, 0.9943580610006968, 0.9218055891720921, 0.9982805211451666, 0.9952464909518585, 0.9881811448606823, 0.009771877823096981, 0.9956365328160359, 0.9923433284572893, 0.9887835275548433, 0.9528223239433848, 0.05105920504024449, 0.00919065690724401, 0.8965996405066933, 0.041868548133000484, 0.9963960696349614, 0.9977368339618015, 0.9984781322025715, 0.9946237926391239, 0.9915085956262516, 0.994728301353408, 0.8357093613866318, 0.99885309964874, 0.06504078920831029, 0.04286779288729542, 0.8647468565195799, 0.026607595585217844, 0.9570772765472773, 0.860124193997581, 0.35861477114899976, 0.6395002322952607, 0.1265005558634141, 0.8238348700604843, 0.047437708448780286, 0.915766907542202, 0.9973776535781228, 0.9356357421677538, 0.9993586899166322, 0.9990708027663414, 0.9973640505508181, 0.4562439781884742, 0.28989783788072493, 0.20223825356917238, 0.04762607336611909, 0.004141397684010356, 0.8386237257254084, 0.045150460168158234, 0.004146470831769633, 0.11195471245778012, 0.9971862118638071, 0.9938644241687611, 0.9832653029632229, 0.9240130547455226, 0.07308577834145377, 0.9982031906961852, 0.8597213858106774, 0.7900724344359371, 0.04976487463280987, 0.15986415479389363, 0.9965738167418301, 0.9994474925832871, 0.9922236926899181, 0.19374546709482773, 0.2156471285925039, 0.042118579803223415, 0.44814168910629715, 0.10024221993167173, 0.9961821111742886, 0.5144522819745075, 0.16096754755147297, 0.3238667056735636, 0.991657550450326, 0.007715413435997959, 0.5030253445485007, 0.07621596129522738, 0.4191877871237506, 0.9985144491279924, 0.2781948853130863, 0.7212001035733462, 0.15387567672346936, 0.8461108979727787, 0.9981484574744937, 0.999412757223496, 0.09313446721844754, 0.8387678963864976, 0.06748066187683924, 0.9910767137005128, 0.9972404387805786, 0.00199527898915682, 0.9758087146188685, 0.732642802045276, 0.024429489272556247, 0.24260175980568235, 0.7186716221994345, 0.2809214285927874, 0.9994327996636844, 0.9987092170659168, 0.9875251311866523, 0.7054464075456474, 0.2943905811483831, 0.999354053307477, 0.9741232682657883, 0.3886256362059948, 0.6109775390604842, 0.9202393213518385, 0.079592753883357, 0.760268166822372, 0.9994108449736627, 0.997878383838876, 0.49627008599617595, 0.03905483884781936, 0.22512502647946828, 0.23930417179364472, 0.9917525467763911, 0.9963266927937117, 0.9889153270355927, 0.9810574574352273, 0.9979866299291099, 0.982593784871716, 0.9990583527329211, 0.7413880333570663, 0.2567350786890194, 0.5623663031127705, 0.43739601353215485, 0.9956571203588073, 0.9376422522991684, 0.06049304853543022, 0.9761502507081921, 0.9861947696516841, 0.7368786891505444, 0.2622788554603633, 0.9986458823332567, 0.9909119627233581, 0.618927962782392, 0.16094287339367613, 0.21981123983632947, 0.987194620140763, 0.9850404836594017, 0.9975190068374729, 0.9987907653996599, 0.9952764058607655, 0.09423415568102493, 0.90195549008981, 0.994664003723005, 0.9969840101210716, 0.9979046835561609, 0.1443153342957314, 0.8549590259034997, 0.03627071312878078, 0.959158858294425, 0.9971069857209511, 0.9962015663942101, 0.987989075436962, 0.9898508305298039, 0.98441262370687, 0.9950987612201209, 0.9849203224470667, 0.9996194028295609, 0.8442623018608202, 0.15382745330514944, 0.9971568492824606, 0.9555221070474053, 0.07725777526904576, 0.26637343374971606, 0.6559801286647812, 0.2657459563301764, 0.7323464145378117, 0.9979679200288274, 0.9903314377259549, 0.4184948907136753, 0.21157476780266699, 0.34719419396417656, 0.0224269253870827, 0.06487464563277758, 0.09774446608671822, 0.13753424874148845, 0.6150116405987314, 0.083904541685059, 0.9988910785037601, 0.3854456034802352, 0.202063957946909, 0.01573247361143817, 0.10275271827470556, 0.25368613698444054, 0.040314463629310314, 0.7747408016074194, 0.08073795493469782, 0.14372501197595144, 0.9963472468950012, 0.9544708023402861, 0.9997526038584401, 0.9987490769460883, 0.9987409721929636, 0.7152005074475547, 0.9952340401223395, 0.6275742523054835, 0.3284035730597575, 0.017726329227657364, 0.026123011493389796, 0.45960032230465697, 0.5356492964989528, 0.9857960239736496, 0.9979305828815507, 0.9929355129689394, 0.38747407780475185, 0.08634519839660208, 0.5245470802593576, 0.7535639161935359, 0.003950531670739376, 0.24197006483278674, 0.9706053260867127, 0.9962821476335065, 0.9840833172876504, 0.40167434816565084, 0.18445185684996088, 0.4133781461891255, 0.12854183713601586, 0.8713836134566803, 0.9906376256259932, 0.996426103013035, 0.9915079440862082, 0.9969453274948223, 0.9990885160962776, 0.058153571231904594, 0.9377263361144617, 0.9952639936090418, 0.99090969242163, 0.9973918751160467, 0.9961738576812741, 0.9988936576672184, 0.2810357261326785, 0.7183735136487372, 0.9983345490231578, 0.9961051871800122, 0.9919520652848155, 0.9916928014013908, 0.08333326188367707, 0.13769180863989436, 0.7788502485116325, 0.0001238235689207683, 0.9934705868359639, 0.93208367833108, 0.1779463002661703, 0.723055133414872, 0.09787046514639366, 0.9956052835670728, 0.9775892776494379, 0.8063788542179405, 0.1920878286347452, 0.9985386830686457, 0.589244701077741, 0.4082624000324348, 0.9992299789042272, 0.9931923358588003, 0.9975644028473301, 0.9860171508844485, 0.9990299224089368, 0.9989728091438, 0.9825531250565768, 0.9866791888913141, 0.6963970000701917, 0.25623156796475755, 0.04704666756199387, 0.7586670026805946, 0.13850324027138922, 0.09922620198547286, 0.8147062459622074, 0.18353272573873902, 0.9975370233272062, 0.9024318777581866, 0.09400332059981109, 0.9724891429771647, 0.102166773860468, 0.06994212834175408, 0.3639920187000186, 0.4635954684851344, 0.11852490634758421, 0.8791847483504347, 0.009293343623400509, 0.04756005266093202, 0.7959475479806554, 0.1465068288865492, 0.9935831949137295, 0.9646783430424446, 0.9834393376465556, 0.9989454908509905, 0.9866340301210641, 0.9993913317078662, 0.9955112797584355, 0.9981300678159775, 0.992369306830975, 0.9981868941951365, 0.9178185608304658, 0.9994408367608786, 0.9908308829010659, 0.6578220245706233, 0.30592574466551514, 0.036169710467700115, 0.0694418706148227, 0.9258916081976358, 0.9979399443706535, 0.9929438860796952, 0.9995455705735881, 0.21255230024046592, 0.7834070494577172, 0.30488553106037425, 0.34113066412349563, 0.35179099737735486, 0.9970238599550127, 0.2068041211952409, 0.7902871774246705, 0.9908691377687747, 0.9245916286892164, 0.23597963340105768, 0.46008607770017534, 0.30276632209947024, 0.9767129415440081, 0.021948605427955237, 0.49046158031564113, 0.3262794360016911, 0.07609712085662446, 0.10736991024975778, 0.9906555025874968, 0.20194391090393637, 0.18591661638775095, 0.6116015587376359, 0.9980607286140712, 0.9953014406440076, 0.9996345499876848, 0.9895869085596901, 0.9884328840968295, 0.5528998752389136, 0.09621893932729146, 0.3504092715799868, 0.9974228735524588, 0.997013317392522, 0.9921518897574609, 0.9454458956488347, 0.9891525531307833, 0.9972494634924333, 0.9905087020169271, 0.9985248363912498, 0.9957053326590503, 0.9788467879335089, 0.9996461870516324, 0.9971271407639221, 0.9996085599396334, 0.2315912193382175, 0.7681006931613177, 0.9899274630911813, 0.996568104610523, 0.9733247626592977, 0.9961377208974809, 0.936173986912921, 0.3926808379681179, 0.5979458214514523, 0.9898941176336773, 0.9907285353786345, 0.9911414975299381, 0.9946150850086636, 0.9988949069998405, 0.9978521328317292, 0.9780900136926092, 0.9735456057864864, 0.06403825145147919, 0.9343016686126068, 0.02762381500237757, 0.9549947472250532, 0.01686128967677592, 0.2262274933766893, 0.2924404182674276, 0.38624206186264026, 0.09449136156282449, 0.20922824614036423, 0.6015312076535472, 0.18774498872416612, 0.9976927150540265, 0.9936821530793252, 0.9974963434230671, 0.9761105628258527, 0.9842449143625814, 0.7397710827926395, 0.05058474715560077, 0.1236241869510048, 0.01727284049215636, 0.06859785224027812, 0.8753824094609729, 0.12319123311950778, 0.32519215799354606, 0.5397168276646812, 0.13280098598689316, 0.9899175670464136, 0.26736174403009616, 0.7299399995742307, 0.9455063488880331, 0.9975453633570445, 0.9855061166616457, 0.18835659573336208, 0.6295388428375304, 0.02792668769548271, 0.15419096716973962, 0.9812231349428563, 0.9861270309800799, 0.9998139686859621, 0.18510746926321547, 0.8045055394901288, 0.9331703856006168, 0.06429972621629693, 0.9990226913057069, 0.9974243832394034, 0.5311178474354673, 0.22830908311200268, 0.24050197388084557, 0.9981172913242891, 0.9846973819750432, 0.992417327464197, 0.9984041697552645, 0.9976215164897744, 0.9781645494860249, 0.9974174268359741, 0.8681528230005635, 0.9992392184255885, 0.959944560104298, 0.9972572438848262, 0.9956269577953673, 0.9986123802127314, 0.990543467603711, 0.9963979101681638, 0.9990520661693251, 0.9968550673222034, 0.9988141478134908, 0.9171489883461836, 0.02893264348687323, 0.053754638172332773, 0.8792548379467153, 0.1201882066373864, 0.9992426922906517, 0.9926023524798404, 0.9990241825088095, 0.9832743887952796, 0.995552928343351, 0.9978252313197818, 0.9984528367472983, 0.9953000860193685, 0.31458256755613323, 0.6604852150446486, 0.02441123877082732, 0.9714334105916167, 0.9896038002479072, 0.28384834419629673, 0.5847275890443713, 0.08515450325888901, 0.0435234127767655, 0.9848377989225541, 0.9925180231178231, 0.9979438927710005, 0.9833431355108097, 0.9820196508847884, 0.9814973475391696, 0.9921913662799693, 0.9871414052418933, 0.9992653681849787, 0.9933690667923863, 0.9045204293111055, 0.09437211541769158, 0.9991571964666394, 0.9992732158676259, 0.8337023512676375, 0.14512596485029244, 0.020585243241176235, 0.04604265277484964, 0.9534666012125113, 0.9072779264711617, 0.9838840869523622, 0.9938766722508066, 0.9880212038598315, 0.23326529089590137, 0.7654017357521763, 0.9934589006160697, 0.9154606192800845, 0.8285862551504448, 0.988868112931469, 0.23028889631590277, 0.7658444691435836, 0.9621461180148169, 0.0018467295931186504, 0.03508786226925436, 0.9945327438162995, 0.30830354119910097, 0.09390656574037566, 0.5299506559245465, 0.06732272176240167, 0.9986777368669594, 0.8003526175976666, 0.08343444276114671, 0.11124592368152895, 0.996037078347957, 0.3883652549795729, 0.6086321160127635, 0.9996098583673936, 0.9966691875211204, 0.9243618124932006, 0.07447464839992611, 0.9833523622659229, 0.9695135383626796, 0.9971117638337239, 0.9985833596879549, 0.149293404844169, 0.6338686313417411, 0.08495146605610963, 0.11410640706944902, 0.01709082749057827, 0.9995047697121949, 0.9974813415515695, 0.9900588000944573, 0.9469358340343998, 0.7997538054878519, 0.08463595051083561, 0.05872318152183528, 0.0566725307385331, 0.966516468599085, 0.8624406188189163, 0.1373981238662142, 0.1077009461153459, 0.8860850566762549, 0.9968782228965165, 0.99863649129974, 0.9846357735870416, 0.9994057771026721, 0.10321665703689105, 0.5502301491665846, 0.29024834384809967, 0.055100621425708755, 0.9883637299814106, 0.8852919574813002, 0.036318180073896464, 0.07815672351902518, 0.997725580031229, 0.9601307428131567, 0.9982837763756873, 0.9991906241780069, 0.9997237971387942, 0.9974979868255628, 0.9003139653773046, 0.8621023764359023, 0.13773106683818434, 0.8744399043073798, 0.1254077351874978, 0.9907292400894159, 0.9699982707327361, 0.9964052169071005, 0.0016872625286296343, 0.0016872625286296343, 0.99688104322987, 0.5442828109335397, 0.07805606203310453, 0.09071380182225662, 0.1170840930496568, 0.08649455522587259, 0.08227530862948856, 0.9971872751163369, 0.9971668208280693, 0.3829343563994808, 0.6150671299690776, 0.9915722914293439, 0.9978160706426518, 0.12115548228434532, 0.8764439143973917, 0.9929672759830012, 0.9797463735000504, 0.18151272912763358, 0.8174555408212355, 0.9982081541535547, 0.9981479482491661, 0.8825255882538867, 0.033233181147635904, 0.033233181147635904, 0.05077291564222152, 0.9972365009291524, 0.9888931283424667, 0.9961880921630722, 0.9990514020680212, 0.8859075520789595, 0.9536260909394254, 0.9891850180723616, 0.997673599369541, 0.9841232077886541, 0.015396973263968513, 0.991719503465573, 0.9888048062719162, 0.9889603166727768, 0.998620450855726, 0.3221031559797276, 0.5962926947071925, 0.0066460823930558, 0.04621345664008568, 0.028593610295705185, 0.9790911985765907, 0.020000890243296113, 0.9941017763832182, 0.9687148176652264, 0.9997429098979836, 0.9993769973369618, 0.9976024656965321, 0.15777325646355503, 0.8414573678056267, 0.9299810234126675, 0.06736611653696001, 0.9925304336371378, 0.9964690678500022, 0.9049006865927306, 0.9875246430417954, 0.9874501775185726, 0.054512601394571945, 0.941856612983993, 0.8944380537312012, 0.10519124758599362, 0.9985191068258381, 0.9883169855346653, 0.9970559014642747, 0.8806280979319387, 0.11425360621873963, 0.004837350263293412, 0.997413527437583, 0.9703380938752173, 0.98613049536724, 0.0016107979342816726, 0.012080984507112544, 0.8490197432311586, 0.14982701351138092, 0.9159502802751204, 0.9970852033380754, 0.8827687171835246, 0.9995340890238569, 0.9996577679920854, 0.9991556229111309, 0.9651919572228216, 0.9988900771729907, 0.9982361395762699, 0.45280674792494424, 0.4659952939810106, 0.07913127633639802, 0.9689839849086413, 0.02916230871134078, 0.10294695376657548, 0.03841304245021473, 0.8258804126796166, 0.03149869480917608, 0.7222612752695733, 0.2652624368678466, 0.008733755578344108, 0.0036559907072138127, 0.8465879763441918, 0.9920466707551167, 0.5335515593469402, 0.0045203876304332185, 0.4618815425612007, 0.599475993007956, 0.0349432777774271, 0.10922389820249669, 0.25611120957826805, 0.8724003716333015, 0.12663876362418894, 0.9970712308941632], \"Term\": [\"ab\", \"absurd\", \"abuse\", \"accept\", \"accept\", \"account\", \"actually\", \"actually\", \"adam\", \"added_forwarde\", \"advance\", \"advance\", \"afford\", \"age\", \"age\", \"agree\", \"agree\", \"aim\", \"air\", \"alive\", \"alive\", \"also\", \"also\", \"also\", \"also\", \"ammunition\", \"analogy\", \"anti\", \"app\", \"appeal\", \"appear\", \"appear\", \"appear\", \"application\", \"appoint\", \"appreciate\", \"appreciated\", \"approve\", \"arab\", \"arbitrary\", \"area\", \"area\", \"area\", \"argument\", \"arm\", \"armenian\", \"article\", \"article\", \"assembler\", \"association\", \"astronomy\", \"atf\", \"atheist\", \"atmosphere\", \"atrocity\", \"attack\", \"attack\", \"authority\", \"automatically\", \"available\", \"average\", \"ax\", \"baby\", \"baby_bike\", \"back\", \"bad\", \"bad\", \"ban\", \"bank\", \"baseball\", \"battery\", \"bear\", \"beauty\", \"become\", \"become\", \"become\", \"bee\", \"begin\", \"begin\", \"begin\", \"belief\", \"believe\", \"believe\", \"bike\", \"biological\", \"bit\", \"bit\", \"bit\", \"blank\", \"block\", \"block\", \"body\", \"bomb\", \"book\", \"book\", \"bounce\", \"boy\", \"brave\", \"bring\", \"bring\", \"bring\", \"british\", \"brother\", \"buy\", \"buy\", \"cable\", \"call\", \"call\", \"call\", \"call\", \"camera\", \"captain\", \"capture\", \"car\", \"card\", \"care\", \"carry\", \"carry\", \"carry\", \"carry\", \"carry\", \"cash\", \"caution\", \"chamber\", \"character\", \"cheap\", \"chief\", \"child\", \"child\", \"child\", \"chip\", \"chip\", \"christian\", \"church\", \"circuit\", \"citizen\", \"citizen\", \"city\", \"city\", \"civil\", \"civilian\", \"claim\", \"clearly\", \"clinton_gore\", \"clipper\", \"clipper_chip\", \"close\", \"close\", \"close\", \"close\", \"club\", \"cock\", \"code\", \"color\", \"com\", \"com\", \"come\", \"come\", \"come\", \"commit\", \"commit\", \"commit\", \"communication\", \"community\", \"competition\", \"compound\", \"computer\", \"computer\", \"concerned\", \"conclusion\", \"cone\", \"conservative\", \"consideration\", \"constitution\", \"consult\", \"context\", \"control\", \"control\", \"control\", \"control\", \"convert\", \"cool\", \"cop\", \"copy\", \"cord\", \"corinthian\", \"corporation\", \"cost\", \"country\", \"couple\", \"court\", \"court\", \"cpu\", \"creature\", \"credibility\", \"crew\", \"crime\", \"crime\", \"criminal\", \"criminal\", \"cross\", \"crypto\", \"cryptography\", \"cubic\", \"cult\", \"cycle\", \"d\", \"d\", \"danger\", \"datum\", \"datum\", \"daughter\", \"day\", \"day\", \"dead\", \"death\", \"death\", \"decent\", \"defense\", \"defense\", \"define\", \"democracy\", \"democracy\", \"deny\", \"dept\", \"deserve\", \"destroy\", \"destroy\", \"detailed\", \"detailed\", \"developer\", \"device\", \"devil\", \"diameter\", \"die\", \"die\", \"direct\", \"dirty\", \"disagree\", \"discussion\", \"disease\", \"disk\", \"display\", \"distribution_usa\", \"division\", \"division\", \"division\", \"do\", \"do\", \"dock\", \"doctor\", \"dream\", \"drive\", \"driver\", \"driver\", \"drug\", \"dual\", \"duty\", \"earth\", \"earth\", \"eat\", \"else\", \"email\", \"email\", \"encryption\", \"end\", \"end\", \"end\", \"end\", \"end\", \"engine\", \"enough\", \"entitle\", \"entry\", \"environment\", \"environment\", \"environment\", \"escape\", \"esdi\", \"ethnic\", \"eve\", \"even\", \"even\", \"even\", \"evidence\", \"evolution\", \"example\", \"example\", \"example\", \"exist\", \"exist\", \"expansion\", \"expensive\", \"experience\", \"explain\", \"explain\", \"export\", \"extermination_ohanus\", \"face\", \"face\", \"fact\", \"fact\", \"fact\", \"fact\", \"faith\", \"family\", \"fan\", \"faq\", \"fascist\", \"fasst\", \"father\", \"fed\", \"field\", \"file\", \"fill\", \"final\", \"final\", \"final\", \"finish\", \"fire\", \"firearm\", \"first\", \"first\", \"first\", \"first\", \"first\", \"flight\", \"floor\", \"follow\", \"follow\", \"follow\", \"follow\", \"follower\", \"force\", \"force\", \"force\", \"force\", \"format\", \"frame\", \"frequently_aske\", \"front\", \"front\", \"ftp_site\", \"fuel\", \"function\", \"game\", \"gateway\", \"genesis\", \"genocide\", \"get\", \"get\", \"get\", \"giant\", \"give\", \"give\", \"give\", \"go\", \"go\", \"goal\", \"goal\", \"goal\", \"god\", \"golden\", \"good\", \"good\", \"government\", \"government\", \"graphic\", \"great\", \"great\", \"great\", \"greatly_appreciate\", \"greek\", \"greek\", \"grip\", \"ground\", \"ground\", \"group\", \"group\", \"group\", \"grow\", \"guess\", \"guilty\", \"gun\", \"gun_control\", \"handgun\", \"hard\", \"hardware\", \"hassle\", \"headache\", \"health\", \"hear\", \"heart\", \"helmet\", \"help\", \"help\", \"help\", \"help\", \"herein\", \"hide\", \"high\", \"high\", \"high\", \"hit\", \"hit\", \"hitter\", \"hole\", \"hole\", \"host\", \"hot\", \"however\", \"however\", \"however\", \"human\", \"human_being\", \"ide\", \"ill\", \"image\", \"immediate\", \"impact\", \"impedance\", \"implementation\", \"in\", \"include\", \"include\", \"include\", \"include\", \"include\", \"increase\", \"increase\", \"increase\", \"indeed\", \"indeed\", \"industry\", \"industry\", \"infinity\", \"info\", \"info\", \"information\", \"information\", \"information\", \"information\", \"inhabitant\", \"ini_file\", \"input\", \"insert\", \"instal\", \"instal\", \"insurance\", \"intel\", \"intelligence\", \"intentionally\", \"interested\", \"interested\", \"interested\", \"interested\", \"interface\", \"international\", \"internet\", \"invasion\", \"investigation\", \"islamic\", \"islamic_law\", \"israeli\", \"issue\", \"issue\", \"issue\", \"issue\", \"ist\", \"ists_ca\", \"jewish\", \"jewish\", \"job\", \"job\", \"job\", \"jubilees_re\", \"justify\", \"keen\", \"key\", \"keyword\", \"kid\", \"kill\", \"kill\", \"kill\", \"kill\", \"kill\", \"know\", \"know\", \"know\", \"know\", \"knowledge\", \"koresh\", \"kurd\", \"laboratory\", \"laboratory\", \"land\", \"las_cruce\", \"last\", \"last\", \"last\", \"launch\", \"law\", \"lawyer\", \"lead\", \"lead\", \"lead\", \"lead\", \"lead\", \"leafs\", \"less\", \"less\", \"less\", \"let\", \"let\", \"license\", \"license\", \"license\", \"lie\", \"life\", \"life\", \"line\", \"line\", \"listen\", \"little\", \"live\", \"live\", \"live\", \"locate\", \"long\", \"long\", \"longer_exist\", \"look\", \"look\", \"look\", \"lose\", \"lose\", \"lot\", \"low\", \"lunar\", \"m\", \"m\", \"machine\", \"mad\", \"mail\", \"mail\", \"make\", \"make\", \"malfunction\", \"man\", \"manual\", \"many\", \"many\", \"many\", \"many\", \"mar\", \"market\", \"massacre\", \"massive\", \"master\", \"maximum\", \"maybe\", \"mb\", \"mb\", \"mean\", \"mean\", \"medical\", \"meet\", \"meet\", \"meg\", \"melkonian\", \"member\", \"member\", \"memory\", \"mercy\", \"message\", \"message\", \"message\", \"micro\", \"might_serve\", \"mile\", \"military\", \"militia\", \"mine\", \"mine\", \"minority\", \"mission\", \"mode\", \"model\", \"model\", \"monitor\", \"monitor\", \"moon\", \"moral\", \"moslem\", \"mother\", \"motor\", \"mount\", \"mountain_passe\", \"much\", \"murder\", \"murder\", \"muslim\", \"n\", \"name\", \"name\", \"name\", \"national\", \"national\", \"nature\", \"nazi\", \"need\", \"need\", \"need\", \"need\", \"net\", \"net\", \"net\", \"net\", \"net\", \"network\", \"new\", \"new\", \"new\", \"new\", \"new\", \"new\", \"next\", \"next\", \"next\", \"nhl\", \"nm\", \"nntp_poste\", \"normal\", \"notice\", \"ns_simms\", \"nsa\", \"number\", \"number\", \"number\", \"number\", \"objective\", \"objective\", \"observe\", \"occupy\", \"offense\", \"offer\", \"offer\", \"offer\", \"old\", \"old\", \"old\", \"optimize\", \"orbit\", \"orbital\", \"order\", \"order\", \"order\", \"organization\", \"organization\", \"origin\", \"owner\", \"ozone\", \"pack\", \"package\", \"packet\", \"packet\", \"parent\", \"park\", \"partner\", \"past\", \"patient\", \"pay\", \"pay\", \"pc\", \"pen\", \"penalty\", \"penguin\", \"people\", \"people\", \"people\", \"people\", \"percent\", \"persistent\", \"person\", \"person\", \"person\", \"pgp\", \"phase\", \"phone\", \"phone\", \"physical\", \"pick\", \"pick\", \"pin\", \"pitch\", \"plane\", \"planetary\", \"play\", \"player\", \"please_respond\", \"plot\", \"point\", \"point\", \"point\", \"police\", \"police\", \"police\", \"policy\", \"policy\", \"political\", \"population\", \"population\", \"positively\", \"post\", \"post\", \"post\", \"post\", \"posting\", \"posting\", \"power\", \"power\", \"power\", \"power\", \"predict\", \"preliminary\", \"press_release\", \"pretty\", \"prevention\", \"price\", \"principle\", \"printer\", \"privacy\", \"private\", \"privately\", \"probably\", \"probe\", \"problem\", \"problem\", \"problem\", \"proceed\", \"proceed\", \"processor\", \"production\", \"program\", \"prohibit\", \"prohibit\", \"project\", \"project\", \"project\", \"proof\", \"property\", \"property\", \"proposal\", \"propulsion\", \"protect\", \"protect\", \"protect\", \"prove\", \"prove\", \"provide\", \"provide\", \"provide\", \"provide\", \"pt\", \"public\", \"public\", \"public\", \"purchase\", \"purdue_university\", \"put\", \"quadra\", \"qualified\", \"question\", \"question\", \"question\", \"quick\", \"quote\", \"quran\", \"radar\", \"radiation\", \"radio\", \"rain\", \"rate\", \"rational\", \"rd\", \"re\", \"reality\", \"really\", \"reason\", \"reason\", \"rebel\", \"recommend\", \"redesign\", \"refer\", \"reflection\", \"region\", \"region\", \"regularly\", \"regulation\", \"relation\", \"relationship\", \"religion\", \"religious\", \"remainder\", \"remind\", \"replace\", \"replace\", \"reply\", \"reply\", \"reply\", \"report\", \"report\", \"report\", \"report\", \"research\", \"research\", \"research\", \"respect\", \"restore\", \"revelation\", \"revolver\", \"rifle\", \"right\", \"right\", \"right\", \"right\", \"right\", \"risk\", \"risk\", \"road\", \"road\", \"road\", \"rob\", \"rocket\", \"rocket\", \"rod\", \"route\", \"ruler\", \"run\", \"run\", \"run\", \"run\", \"rushdie\", \"rutger\", \"s\", \"sad\", \"sad\", \"safety\", \"safety\", \"sale\", \"satellite\", \"say\", \"say\", \"say\", \"scan\", \"scare\", \"scheme\", \"science\", \"scientific\", \"scope\", \"score\", \"scott_roby\", \"screen\", \"script\", \"scripture\", \"scsi\", \"season\", \"seattle_wa\", \"secret\", \"section\", \"secure\", \"security\", \"see\", \"see\", \"see\", \"seem\", \"seem\", \"sell\", \"semi\", \"sense\", \"serdar_argic\", \"serial\", \"serious\", \"server\", \"session\", \"set\", \"set\", \"set\", \"shareware\", \"sheet\", \"shoot\", \"shoot\", \"shoot\", \"shoot\", \"shotgun\", \"shuttle\", \"signal\", \"significance\", \"simm\", \"simms\", \"sky\", \"slaughter\", \"software\", \"solar\", \"soldier\", \"soldier\", \"soon\", \"sound\", \"source\", \"source\", \"source\", \"space\", \"space\", \"space_dig\", \"space_station\", \"spec\", \"specification\", \"speed\", \"speed\", \"spring\", \"ssf\", \"stall\", \"stamp\", \"star\", \"star\", \"start\", \"start\", \"start\", \"stat\", \"state\", \"state\", \"state\", \"state\", \"statement\", \"station\", \"station\", \"station\", \"statistic\", \"step\", \"step\", \"still\", \"student\", \"study\", \"study\", \"stuff_delete\", \"suck\", \"suffer\", \"suggest\", \"support\", \"support\", \"support\", \"support\", \"support\", \"sure\", \"surface\", \"survivor\", \"synchronous\", \"system\", \"system\", \"system\", \"system\", \"tail\", \"take\", \"take\", \"tank\", \"tank\", \"tap\", \"tape\", \"tavare\", \"team\", \"technology\", \"technology\", \"technology\", \"technology\", \"television\", \"tell\", \"tell\", \"tell\", \"telnet\", \"territorial\", \"terrorism\", \"test\", \"thank\", \"therefore\", \"thesis\", \"thing\", \"thing\", \"think\", \"think\", \"threat\", \"tiff\", \"time\", \"time\", \"time\", \"tm\", \"today\", \"today\", \"today\", \"today\", \"today\", \"today\", \"topic\", \"trace\", \"trade\", \"trade\", \"translate\", \"treatment\", \"trial\", \"trial\", \"trigger\", \"trivial\", \"true\", \"true\", \"trust\", \"truth\", \"try\", \"try\", \"try\", \"try\", \"turk\", \"turkey\", \"turkish\", \"turn\", \"txt\", \"ultimate\", \"unable\", \"united_state\", \"university\", \"university\", \"unknown\", \"unusual\", \"upset\", \"usa\", \"use\", \"use\", \"use\", \"use\", \"use\", \"user\", \"user\", \"utility\", \"utilize\", \"ve\", \"version\", \"version_pl\", \"view\", \"view\", \"village\", \"village\", \"violate\", \"violence\", \"visualization\", \"voltage\", \"volunteer\", \"vote\", \"vote\", \"want\", \"want\", \"war\", \"warrant\", \"warranty\", \"way\", \"way\", \"way\", \"weapon\", \"weeks_ago\", \"well\", \"well\", \"well\", \"wide\", \"wide\", \"wide_glide\", \"wife\", \"wild_corn\", \"win\", \"window\", \"wing\", \"winter\", \"wire\", \"withdraw\", \"witness\", \"witness\", \"witness\", \"woman\", \"woman\", \"word\", \"word\", \"word\", \"word\", \"work\", \"work\", \"work\", \"work\", \"workshop\", \"workstation\", \"write\", \"write\", \"write\", \"year\", \"year\", \"year\", \"year\", \"young\", \"young\", \"zone\"]}, \"R\": 30, \"lambda.step\": 0.01, \"plot.opts\": {\"xlab\": \"PC1\", \"ylab\": \"PC2\"}, \"topic.order\": [9, 20, 3, 8, 10, 19, 18, 7, 4, 2, 13, 14, 12, 15, 17, 1, 11, 16, 6, 5]};\n",
       "\n",
       "function LDAvis_load_lib(url, callback){\n",
       "  var s = document.createElement('script');\n",
       "  s.src = url;\n",
       "  s.async = true;\n",
       "  s.onreadystatechange = s.onload = callback;\n",
       "  s.onerror = function(){console.warn(\"failed to load library \" + url);};\n",
       "  document.getElementsByTagName(\"head\")[0].appendChild(s);\n",
       "}\n",
       "\n",
       "if(typeof(LDAvis) !== \"undefined\"){\n",
       "   // already loaded: just create the visualization\n",
       "   !function(LDAvis){\n",
       "       new LDAvis(\"#\" + \"ldavis_el342824489977049762715036137\", ldavis_el342824489977049762715036137_data);\n",
       "   }(LDAvis);\n",
       "}else if(typeof define === \"function\" && define.amd){\n",
       "   // require.js is available: use it to load d3/LDAvis\n",
       "   require.config({paths: {d3: \"https://d3js.org/d3.v5\"}});\n",
       "   require([\"d3\"], function(d3){\n",
       "      window.d3 = d3;\n",
       "      LDAvis_load_lib(\"https://cdn.jsdelivr.net/gh/bmabey/pyLDAvis@3.3.1/pyLDAvis/js/ldavis.v3.0.0.js\", function(){\n",
       "        new LDAvis(\"#\" + \"ldavis_el342824489977049762715036137\", ldavis_el342824489977049762715036137_data);\n",
       "      });\n",
       "    });\n",
       "}else{\n",
       "    // require.js not available: dynamically load d3 & LDAvis\n",
       "    LDAvis_load_lib(\"https://d3js.org/d3.v5.js\", function(){\n",
       "         LDAvis_load_lib(\"https://cdn.jsdelivr.net/gh/bmabey/pyLDAvis@3.3.1/pyLDAvis/js/ldavis.v3.0.0.js\", function(){\n",
       "                 new LDAvis(\"#\" + \"ldavis_el342824489977049762715036137\", ldavis_el342824489977049762715036137_data);\n",
       "            })\n",
       "         });\n",
       "}\n",
       "</script>"
      ],
      "text/plain": [
       "PreparedData(topic_coordinates=              x         y  topics  cluster       Freq\n",
       "topic                                                \n",
       "8      0.342880  0.067862       1        1  38.238703\n",
       "19     0.277901 -0.109239       2        1  12.383483\n",
       "2      0.267873  0.233674       3        1   8.639945\n",
       "7      0.242783  0.140197       4        1   8.520648\n",
       "9      0.210066 -0.280207       5        1   8.306985\n",
       "18     0.135008 -0.178409       6        1   5.532292\n",
       "17    -0.039034 -0.077470       7        1   4.338414\n",
       "6      0.091618  0.117199       8        1   3.736654\n",
       "3      0.040249  0.023355       9        1   2.395863\n",
       "1      0.040385 -0.076403      10        1   2.011413\n",
       "12    -0.046444  0.077522      11        1   1.435547\n",
       "13    -0.091993 -0.037851      12        1   1.085360\n",
       "11    -0.111067  0.012405      13        1   1.060055\n",
       "14    -0.151894  0.024894      14        1   0.750341\n",
       "16    -0.172570  0.003155      15        1   0.523672\n",
       "0     -0.192890  0.008612      16        1   0.329667\n",
       "10    -0.199758  0.009578      17        1   0.264179\n",
       "15    -0.210770  0.014152      18        1   0.196063\n",
       "5     -0.216500  0.013537      19        1   0.136802\n",
       "4     -0.215842  0.013437      20        1   0.113917, topic_info=               Term          Freq         Total Category  logprob  loglift\n",
       "4383             ax  43299.000000  43299.000000  Default  30.0000  30.0000\n",
       "18             line  17046.000000  17046.000000  Default  29.0000  29.0000\n",
       "26     organization   9996.000000   9996.000000  Default  28.0000  28.0000\n",
       "213           write  13715.000000  13715.000000  Default  27.0000  27.0000\n",
       "47          article   9744.000000   9744.000000  Default  26.0000  26.0000\n",
       "...             ...           ...           ...      ...      ...      ...\n",
       "6941         closed      0.020936      1.219152  Topic20 -11.1554   2.7130\n",
       "19403         mbyte      0.020935      1.219146  Topic20 -11.1555   2.7130\n",
       "4867          laugh      0.020936      1.219181  Topic20 -11.1554   2.7130\n",
       "4381              _      0.020936      1.219406  Topic20 -11.1554   2.7128\n",
       "4893             os      0.020936      1.219183  Topic20 -11.1554   2.7130\n",
       "\n",
       "[890 rows x 6 columns], token_table=      Topic      Freq    Term\n",
       "term                         \n",
       "950      18  0.878572      ab\n",
       "371      20  0.902238  absurd\n",
       "2098     13  0.995279   abuse\n",
       "1351      3  0.860165  accept\n",
       "1351      4  0.138571  accept\n",
       "...     ...       ...     ...\n",
       "42        8  0.109224    year\n",
       "42        9  0.256111    year\n",
       "628       4  0.872400   young\n",
       "628       9  0.126639   young\n",
       "2612      8  0.997071    zone\n",
       "\n",
       "[1105 rows x 3 columns], R=30, lambda_step=0.01, plot_opts={'xlab': 'PC1', 'ylab': 'PC2'}, topic_order=[9, 20, 3, 8, 10, 19, 18, 7, 4, 2, 13, 14, 12, 15, 17, 1, 11, 16, 6, 5])"
      ]
     },
     "execution_count": 16,
     "metadata": {},
     "output_type": "execute_result"
    }
   ],
   "source": [
    "# Visualize the topics\n",
    "pyLDAvis.enable_notebook()\n",
    "vis = pyLDAvis.gensim_models.prepare(lda_model, corpus, id2word)\n",
    "vis"
   ]
  },
  {
   "cell_type": "code",
   "execution_count": null,
   "id": "0101a339",
   "metadata": {},
   "outputs": [],
   "source": []
  }
 ],
 "metadata": {
  "kernelspec": {
   "display_name": "Python 3 (ipykernel)",
   "language": "python",
   "name": "python3"
  },
  "language_info": {
   "codemirror_mode": {
    "name": "ipython",
    "version": 3
   },
   "file_extension": ".py",
   "mimetype": "text/x-python",
   "name": "python",
   "nbconvert_exporter": "python",
   "pygments_lexer": "ipython3",
   "version": "3.8.10"
  }
 },
 "nbformat": 4,
 "nbformat_minor": 5
}
